{
  "nbformat": 4,
  "nbformat_minor": 0,
  "metadata": {
    "colab": {
      "provenance": [],
      "authorship_tag": "ABX9TyM4Tj2WWkeqz6EG5WyZXpL5",
      "include_colab_link": true
    },
    "kernelspec": {
      "name": "python3",
      "display_name": "Python 3"
    },
    "language_info": {
      "name": "python"
    },
    "widgets": {
      "application/vnd.jupyter.widget-state+json": {
        "2c1274de111a4191a75a501fda3b9be9": {
          "model_module": "@jupyter-widgets/controls",
          "model_name": "VBoxModel",
          "model_module_version": "1.5.0",
          "state": {
            "_dom_classes": [],
            "_model_module": "@jupyter-widgets/controls",
            "_model_module_version": "1.5.0",
            "_model_name": "VBoxModel",
            "_view_count": null,
            "_view_module": "@jupyter-widgets/controls",
            "_view_module_version": "1.5.0",
            "_view_name": "VBoxView",
            "box_style": "",
            "children": [
              "IPY_MODEL_13a8f4f7a22f41f8a09f327245fac324",
              "IPY_MODEL_3f2071211b854207bfb8dac5369327a5",
              "IPY_MODEL_ec9b10740031494da64a7ac2eb633a1e",
              "IPY_MODEL_bef26ffe88cc4f918b73302a206fff3b",
              "IPY_MODEL_3bcbac97640046ddac0558e239ec1b23",
              "IPY_MODEL_56735d82d9b44e01a096f1ceaf622ddd"
            ],
            "layout": "IPY_MODEL_06f843c45d2e4bb2973de6d1a5c667fa"
          }
        },
        "13a8f4f7a22f41f8a09f327245fac324": {
          "model_module": "@jupyter-widgets/controls",
          "model_name": "DropdownModel",
          "model_module_version": "1.5.0",
          "state": {
            "_dom_classes": [],
            "_model_module": "@jupyter-widgets/controls",
            "_model_module_version": "1.5.0",
            "_model_name": "DropdownModel",
            "_options_labels": [
              "-- Select Country --",
              "Algeria",
              "Angola",
              "Benin",
              "Botswana",
              "Burkina Faso",
              "Cameroon",
              "Côte d'Ivoire",
              "DR Congo",
              "Djibouti",
              "Egypt",
              "Eritrea",
              "Eswatini",
              "Ethiopia",
              "Gambia",
              "Ghana",
              "Guinea",
              "Kenya",
              "Lesotho",
              "Liberia",
              "Malawi",
              "Mali",
              "Mauritius",
              "Morocco",
              "Mozambique",
              "Namibia",
              "Niger",
              "Nigeria",
              "Rwanda",
              "Senegal",
              "Seychelles",
              "Sierra Leone",
              "Somalia",
              "South Africa",
              "Sudan",
              "Tanzania",
              "Togo",
              "Tunisia",
              "Uganda",
              "Zambia",
              "Zimbabwe"
            ],
            "_view_count": null,
            "_view_module": "@jupyter-widgets/controls",
            "_view_module_version": "1.5.0",
            "_view_name": "DropdownView",
            "description": "Country",
            "description_tooltip": null,
            "disabled": false,
            "index": 27,
            "layout": "IPY_MODEL_dcbfbd27c7394f198b8f1ba760003834",
            "style": "IPY_MODEL_ae14518e03df409c84ce6aad712cf735"
          }
        },
        "3f2071211b854207bfb8dac5369327a5": {
          "model_module": "@jupyter-widgets/controls",
          "model_name": "FloatSliderModel",
          "model_module_version": "1.5.0",
          "state": {
            "_dom_classes": [],
            "_model_module": "@jupyter-widgets/controls",
            "_model_module_version": "1.5.0",
            "_model_name": "FloatSliderModel",
            "_view_count": null,
            "_view_module": "@jupyter-widgets/controls",
            "_view_module_version": "1.5.0",
            "_view_name": "FloatSliderView",
            "continuous_update": false,
            "description": "GDP/Capita ($)",
            "description_tooltip": null,
            "disabled": false,
            "layout": "IPY_MODEL_59c5e86888b944f1a6b02ac05f04246b",
            "max": 10000,
            "min": 500,
            "orientation": "horizontal",
            "readout": true,
            "readout_format": ".0f",
            "step": 50,
            "style": "IPY_MODEL_8c04f686502548ac9faf2a42b5417042",
            "value": 3434.14
          }
        },
        "ec9b10740031494da64a7ac2eb633a1e": {
          "model_module": "@jupyter-widgets/controls",
          "model_name": "FloatSliderModel",
          "model_module_version": "1.5.0",
          "state": {
            "_dom_classes": [],
            "_model_module": "@jupyter-widgets/controls",
            "_model_module_version": "1.5.0",
            "_model_name": "FloatSliderModel",
            "_view_count": null,
            "_view_module": "@jupyter-widgets/controls",
            "_view_module_version": "1.5.0",
            "_view_name": "FloatSliderView",
            "continuous_update": false,
            "description": "Education Idx",
            "description_tooltip": null,
            "disabled": false,
            "layout": "IPY_MODEL_899b078f9173482d882f5725d571536b",
            "max": 0.85,
            "min": 0.4,
            "orientation": "horizontal",
            "readout": true,
            "readout_format": ".2f",
            "step": 0.01,
            "style": "IPY_MODEL_6d07b6668712426889518dc30c790622",
            "value": 0.735
          }
        },
        "bef26ffe88cc4f918b73302a206fff3b": {
          "model_module": "@jupyter-widgets/controls",
          "model_name": "FloatSliderModel",
          "model_module_version": "1.5.0",
          "state": {
            "_dom_classes": [],
            "_model_module": "@jupyter-widgets/controls",
            "_model_module_version": "1.5.0",
            "_model_name": "FloatSliderModel",
            "_view_count": null,
            "_view_module": "@jupyter-widgets/controls",
            "_view_module_version": "1.5.0",
            "_view_name": "FloatSliderView",
            "continuous_update": false,
            "description": "Urban (%)",
            "description_tooltip": null,
            "disabled": false,
            "layout": "IPY_MODEL_afa4b6b05c4747478cf43690b7fde528",
            "max": 90,
            "min": 10,
            "orientation": "horizontal",
            "readout": true,
            "readout_format": ".0f",
            "step": 1,
            "style": "IPY_MODEL_aa25240986234e51b5b464a1cfb8f5af",
            "value": 59.7
          }
        },
        "3bcbac97640046ddac0558e239ec1b23": {
          "model_module": "@jupyter-widgets/controls",
          "model_name": "HBoxModel",
          "model_module_version": "1.5.0",
          "state": {
            "_dom_classes": [],
            "_model_module": "@jupyter-widgets/controls",
            "_model_module_version": "1.5.0",
            "_model_name": "HBoxModel",
            "_view_count": null,
            "_view_module": "@jupyter-widgets/controls",
            "_view_module_version": "1.5.0",
            "_view_name": "HBoxView",
            "box_style": "",
            "children": [
              "IPY_MODEL_84005d61afaf49878c8f62f69ec56f49",
              "IPY_MODEL_691c3072c50e487aa332c402cc90bdc8"
            ],
            "layout": "IPY_MODEL_9c10dc146b5146ac9055b30153c464b2"
          }
        },
        "56735d82d9b44e01a096f1ceaf622ddd": {
          "model_module": "@jupyter-widgets/output",
          "model_name": "OutputModel",
          "model_module_version": "1.0.0",
          "state": {
            "_dom_classes": [],
            "_model_module": "@jupyter-widgets/output",
            "_model_module_version": "1.0.0",
            "_model_name": "OutputModel",
            "_view_count": null,
            "_view_module": "@jupyter-widgets/output",
            "_view_module_version": "1.0.0",
            "_view_name": "OutputView",
            "layout": "IPY_MODEL_da6f6a7cb1ac4fe7854b0fef268d23b9",
            "msg_id": "",
            "outputs": [
              {
                "output_type": "stream",
                "name": "stderr",
                "text": [
                  "/usr/local/lib/python3.12/dist-packages/sklearn/utils/validation.py:2739: UserWarning: X does not have valid feature names, but LinearRegression was fitted with feature names\n",
                  "  warnings.warn(\n"
                ]
              },
              {
                "output_type": "stream",
                "name": "stdout",
                "text": [
                  "Predicted Youth Unemployment Rate: 11.97%\n",
                  "(Context) Avg predicted (train set): 12.27%\n"
                ]
              },
              {
                "output_type": "display_data",
                "data": {
                  "text/plain": "<Figure size 640x480 with 1 Axes>",
                  "image/png": "iVBORw0KGgoAAAANSUhEUgAAAhEAAAHHCAYAAAABEQq9AAAAOnRFWHRTb2Z0d2FyZQBNYXRwbG90bGliIHZlcnNpb24zLjEwLjAsIGh0dHBzOi8vbWF0cGxvdGxpYi5vcmcvlHJYcgAAAAlwSFlzAAAPYQAAD2EBqD+naQAAL9VJREFUeJzt3XlcVfW+//H3ZlZQcABxQMSxVLAjqQ8qZ3L2ZlmmDaKZomGp5elap1JPg6VWmplH66ZWpqn3mmaax1KpzNBMMy3HMK2cSxxQEfj+/vDHvmw341d0g/f1fDx4PGCttdf6fNZ3773erL0WOIwxRgAAAMXk5ekCAABA2USIAAAAVggRAADACiECAABYIUQAAAArhAgAAGCFEAEAAKwQIgAAgBVCBAAAsEKIKKPq1KmjAQMGOH9et26dHA6H1q1b57GaLnd5jaXd/v375XA4NHnyZE+XUiaMGzdODofD02WghGVnZ6tp06Z68cUXPV1Kifnpp5/k4+Oj7du3e7qU6w4hwsKcOXPkcDicXwEBAWrYsKGGDx+uI0eOeLq8YlmxYoXGjRvnkW0vWLBADodDM2fOzHP+sGHD5Ovrqx9++KFEt3u1es55Xnz33Xd5zu/Ro4fq1KlT4tvFtfXSSy/p448/LtKyOcE058vLy0uVK1dW165dtWHDBusa3nrrLc2ZM8f68QWZP3++Dh48qOHDhzun5X7P+/rrr90eY4xRRESEHA6HevToYbXdq9lT48aN1b17dz333HNXZf3/lxEirsA///lPvf/++3rzzTd1yy23aMaMGYqLi1N6evo1r6VNmzY6d+6c2rRpU6zHrVixQuPHj79KVRWsb9++6tKli8aMGeMWvjZu3KhZs2Zp1KhRatasWYlu15M9o+wrTojI0a9fP73//vuaPXu2hg0bpm+//Vbt27fXjz/+aFXD1TzgTpo0SX379lVwcLDbvICAAH344Ydu05OTk/Xbb7/J39/fertXsydJGjp0qJYsWaJ9+/ZdtW38X0SIuAJdu3bVAw88oIcfflhz5szRyJEjlZqaqqVLl+b7mLNnz16VWry8vBQQECAvr7I1pDNmzFBGRoZGjRrlnJaVlaXExETVrl3bY2dJgJLUvHlzPfDAA0pISNCLL76o+fPn68KFC5oxY4anS3OxZcsW/fDDD+rTp0+e87t166ZFixYpMzPTZfqHH36o2NhYhYeHX4syiywzM1MZGRmSpPj4eFWqVElz5871cFXXl7J1xCnlOnToIElKTU2VJA0YMEBBQUHat2+funXrpgoVKuj++++XdOlzxylTpqhJkyYKCAhQtWrVlJiYqL/++stlncYYvfDCC6pVq5bKly+v9u3ba8eOHW7bzu+aiJSUFHXr1k2VKlVSYGCgYmJiNHXqVGd906dPlySXU645SrrGvNSpU0fjxo3T/PnztXr1aknSG2+8oa1bt2rGjBkqX768jh49qkGDBqlatWoKCAhQs2bN3N4I8us/53Ryzm84hfWcY9asWapXr578/f3VokULbdq0qUj9FEfuazCKsr2dO3fq7rvvVuXKlRUQEKCbb75Zy5Ytc1km57Tz119/rccee0yhoaEKCQlRYmKiMjIydPLkSfXv31+VKlVSpUqV9OSTTyr3P/LNXdPrr7+uyMhIlStXTm3bti3S58mZmZl6/vnnnb3UqVNHTz/9tC5cuOBcJiEhQVWrVtXFixfdHt+pUyc1atTI+bPD4dDw4cO1aNEiNW7cWOXKlVNcXJzzN/iZM2eqfv36CggIULt27bR//363daakpKhLly4KDg5W+fLl1bZtW61fv95lmZzrO/bu3asBAwYoJCREwcHBGjhwoMuZRYfDobNnz2ru3LnO547NdT+tW7eWJLffimfPnq0OHTooLCxM/v7+aty4sVvQqFOnjnbs2KHk5GRnDe3atXPOP3nypEaOHKmIiAj5+/urfv36euWVV5SdnV1oXR9//LH8/PzyPaPZr18/nThxwvlalaSMjAwtXrxY9913X56PKcr7SEn0lPu5O2XKFOdz8KeffpIk+fr6ql27dgX+kofi8/F0AdeTnDeEKlWqOKdlZmaqc+fOuu222zR58mSVL19ekpSYmKg5c+Zo4MCBeuyxx5Samqo333xTW7Zs0fr16+Xr6ytJeu655/TCCy+oW7du6tatm77//nt16tTJma4Lsnr1avXo0UPVq1fXiBEjFB4erp9//lnLly/XiBEjlJiYqD/++EOrV6/W+++/7/b4a1GjJI0aNUrz5s3TsGHD9Nlnn+m5555zftRx7tw5tWvXTnv37tXw4cMVFRWlRYsWacCAATp58qRGjBhRpG3k7qmgnqVLv1WdPn1aiYmJcjgcmjhxou666y798ssvzp5LUlG2t2PHDt16662qWbOmxowZo8DAQC1cuFC9evXSf//3f+vOO+90Weejjz6q8PBwjR8/Xt9++61mzZqlkJAQffPNN6pdu7ZeeuklrVixQpMmTVLTpk3Vv39/l8e/9957On36tJKSknT+/HlNnTpVHTp00I8//qhq1arl28vDDz+suXPn6u6779YTTzyhlJQUTZgwQT///LOWLFkiSXrwwQf13nvvadWqVS6fnx8+fFhr1qzR2LFjXdb51VdfadmyZUpKSpIkTZgwQT169NCTTz6pt956S4888oj++usvTZw4UQ899JDWrFnjfOyaNWvUtWtXxcbGauzYsfLy8nIeqL/66iu1bNnSZVt9+vRRVFSUJkyYoO+//17vvPOOwsLC9Morr0iS3n//fT388MNq2bKlhgwZIkmqV69e4YN8mZywU6lSJZfpM2bMUJMmTfQf//Ef8vHx0SeffKJHHnlE2dnZzv6nTJmiRx99VEFBQfrHP/4hSc4xSU9PV9u2bfX77787z+Z98803euqpp3To0CFNmTKlwLq++eYbNW3aNN/neZ06dRQXF6f58+era9eukqSVK1cqLS1Nffv21RtvvOH2mKK8j5RkT7Nnz9b58+c1ZMgQ+fv7q3Llys55sbGxWrp0qU6dOqWKFSsWuC9QRAbFNnv2bCPJfP755+bYsWPm4MGDZsGCBaZKlSqmXLly5rfffjPGGJOQkGAkmTFjxrg8/quvvjKSzLx581ymf/bZZy7Tjx49avz8/Ez37t1Ndna2c7mnn37aSDIJCQnOaWvXrjWSzNq1a40xxmRmZpqoqCgTGRlp/vrrL5ft5F5XUlKSyetpcDVqLEhKSorx8vIylStXNiEhIebw4cPGGGOmTJliJJkPPvjAuWxGRoaJi4szQUFB5tSpU3n2nyM1NdVIMrNnzy6055xlq1SpYv7880/n9KVLlxpJ5pNPPimwh5znxaZNm/Kc3717dxMZGWm1vY4dO5ro6Ghz/vx557Ts7Gxzyy23mAYNGrjV0LlzZ5fxiIuLMw6HwwwdOtQ5LTMz09SqVcu0bdvWrabcz2NjLo2PJDNq1CjntLFjx7rsx61btxpJ5uGHH3bpe/To0UaSWbNmjTHGmKysLFOrVi1z7733uiz32muvGYfDYX755RfnNEnG39/fpKamOqfNnDnTSDLh4eHO8TfGmKeeespIci6bnZ1tGjRo4LYv0tPTTVRUlLn99tvdennooYdcarrzzjtNlSpVXKYFBgYW+Xmdsz/Hjx9vjh07Zg4fPmy++uor06JFCyPJLFq0yGX59PR0t3V07tzZ1K1b12VakyZNXMYtx/PPP28CAwPN7t27XaaPGTPGeHt7mwMHDhRYb61atUzv3r3dpud+br/55pumQoUKzlrvuece0759e2OMMZGRkaZ79+7OxxX1faQkesrZ1xUrVjRHjx7Ns78PP/zQSDIpKSkF7gcUHR9nXIH4+HiFhoYqIiJCffv2VVBQkJYsWaKaNWu6LDds2DCXnxctWqTg4GDdfvvtOn78uPMrNjZWQUFBWrt2rSTp888/V0ZGhh599FGXU+4jR44stLYtW7YoNTVVI0eOVEhIiMu8otyWdy1qzK1ly5YaOnSo/vzzT02YMMH5W8iKFSsUHh6ufv36OZf19fXVY489pjNnzig5OblY2ymKe++91+U3xJxTz7/88kuJb6so2/vzzz+1Zs0a9enTR6dPn3aOxYkTJ9S5c2ft2bNHv//+u8s6Bw0a5DIerVq1kjFGgwYNck7z9vbWzTffnGdfvXr1cnket2zZUq1atdKKFSvy7SNn3uOPP+4y/YknnpAkffrpp5IuXb9z//33a9myZTp9+rRzuXnz5umWW25RVFSUy+M7duzocldLq1atJEm9e/dWhQoV3Kbn9LN161bt2bNH9913n06cOOHcb2fPnlXHjh315Zdfup3iHzp0qMvPrVu31okTJ3Tq1Kl8+y6KsWPHKjQ0VOHh4WrdurV+/vlnvfrqq7r77rtdlitXrpzz+7S0NB0/flxt27bVL7/8orS0tEK3s2jRIrVu3VqVKlVyed3Gx8crKytLX375ZYGPP3HihNvZkcv16dNH586d0/Lly3X69GktX748348yivo+UpI99e7dW6GhoXmuK6e348ePF7pdFA0fZ1yB6dOnq2HDhvLx8VG1atXUqFEjtwsbfXx8VKtWLZdpe/bsUVpamsLCwvJc79GjRyVJv/76qySpQYMGLvNDQ0MLfaHnfLTStGnTojd0jWu8XIsWLSRJN998s3Par7/+qgYNGrjt1xtvvNFl+yWpdu3aLj/n9HH5tSA28gpwhW1v7969Msbo2Wef1bPPPpvneo8ePepy0L98nTlX2kdERLhNz6uvy8dTkho2bKiFCxfmuX3p0lh4eXmpfv36LtPDw8MVEhLiMlb9+/fXK6+8oiVLlqh///7atWuXNm/erH/9619u6y1OL9L/7rc9e/ZIunQNRn7S0tJcnqcFjcWVnP4eMmSI7rnnHp0/f15r1qzRG2+8oaysLLfl1q9fr7Fjx2rDhg1ud3mlpaXlecdEbnv27NG2bdvyPYjmvG4LYnJdI5OX0NBQxcfH68MPP1R6erqysrLcwlDueoryPlKQ4vZ0eQjNLac3/r5JySFEXIGWLVu6HPDy4u/v73YAzM7OVlhYmObNm5fnY/J7sVxLZaHG3PJ7U8jrjbow3t7eeU4v7M01ICBAknTu3Lk856enpzuXKc72cn5bHj16tDp37pznspcfuPNbZ17TC+uruIryBt24cWPFxsbqgw8+UP/+/fXBBx/Iz88vz7sCitOL5L7fJk2apJtuuinPZYOCgoq1TlsNGjRQfHy8pEt/L8Tb21tjxoxR+/btne8h+/btU8eOHXXDDTfotddeU0REhPz8/LRixQq9/vrrRbowMjs7W7fffruefPLJPOc3bNiwwMdXqVKlSGH5vvvu0+DBg3X48GF17drV7Wxn7nqu9H2kuD3lPptzuZzeqlatWuh2UTSECA+oV6+ePv/8c916660FPuEjIyMlXUridevWdU4/duxYoS/0nIu9tm/f7nzzykt+b/jXosaiiIyM1LZt25Sdne0Sxnbu3Omy/ZzfGE+ePOny+LzOVFyt30Jyatm1a5fzI4ncdu/ebXVmKGe/+vr6FjiWJSnnt/jcdu/eXeAfy4qMjFR2drb27NnjPFMkSUeOHNHJkyed+ydH//799fjjj+vQoUP68MMP1b1792KfvSpIzmugYsWKJbrfSuL5849//ENvv/22nnnmGX322WeSpE8++UQXLlzQsmXLXM6I5HXKv6DX7ZkzZ6z7veGGG5x3lxXkzjvvVGJior799lt99NFH+S5X1PcR6er1lFtqaqq8vLwKDVMoOq6J8IA+ffooKytLzz//vNu8zMxM54EwPj5evr6+mjZtmstvQoVdYS1dui89KipKU6ZMcTuw5l5XYGCgJPeD77WosSi6deumw4cPu7xRZWZmatq0aQoKClLbtm0lXTqAeXt7u30++tZbb7mtM7+er1RsbKzCwsL0zjvvuNzSKF26de733393XtFeHGFhYWrXrp1mzpypQ4cOuc0/duyYdc35yak3x8aNG5WSklJg/d26dZPkPvavvfaaJKl79+4u0/v16yeHw6ERI0bol19+0QMPPFBC1V8SGxurevXqafLkyTpz5ozbfNv9FhgYeMXPnZzbbletWqWtW7dK+t+zILlfR2lpaZo9e3aRa+jTp482bNigVatWuc07efKk2993uFxcXJy2b9/u9vy9XFBQkGbMmKFx48apZ8+e+S5X1PcR6er1lNvmzZvVpEmTQj8WQtFxJsID2rZtq8TERE2YMEFbt25Vp06d5Ovrqz179mjRokWaOnWq7r77boWGhmr06NHOW9q6deumLVu2aOXKlYWejvPy8tKMGTPUs2dP3XTTTRo4cKCqV6+unTt3aseOHc4XZGxsrCTpscceU+fOneXt7a2+fftekxqLYsiQIZo5c6YGDBigzZs3q06dOlq8eLHWr1+vKVOmOC+sCw4O1j333KNp06bJ4XCoXr16Wr58eZ6fuebX85Xy8/PT5MmTlZCQoBYtWujee+9VlSpVtGXLFr377ruKiYlx3hZYXNOnT9dtt92m6OhoDR48WHXr1tWRI0e0YcMG/fbbbyX+p8Hr16+v2267TcOGDdOFCxc0ZcoUValSJd9TypLUrFkzJSQkaNasWTp58qTatm2rjRs3au7cuerVq5fat2/vsnxoaKi6dOmiRYsWKSQkxC1kXCkvLy+988476tq1q5o0aaKBAweqZs2a+v3337V27VpVrFhRn3zySbHXGxsbq88//1yvvfaaatSooaioKOdFncUxYsQITZkyRS+//LIWLFigTp06yc/PTz179lRiYqLOnDmjt99+W2FhYW7hMTY2VjNmzNALL7yg+vXrKywsTB06dNDf//53LVu2TD169NCAAQMUGxurs2fP6scff9TixYu1f//+Al+Xd9xxh55//nklJyerU6dOBdZf0LUmOYr6PnI1e8px8eJFJScn65FHHil0WRSDR+4JKeMKu5UvR0JCggkMDMx3/qxZs0xsbKwpV66cqVChgomOjjZPPvmk+eOPP5zLZGVlmfHjx5vq1aubcuXKmXbt2pnt27ebyMjIAm/xzPH111+b22+/3VSoUMEEBgaamJgYM23aNOf8zMxM8+ijj5rQ0FDjcDjcbn0syRoLk99+PXLkiBk4cKCpWrWq8fPzM9HR0S63bOY4duyY6d27tylfvrypVKmSSUxMNNu3b3e7xTO/nnNuEZs0aZLbuiWZsWPHFqmPlStXmvbt25uKFSsaX19fExUVZR5//HG3W22Lu719+/aZ/v37m/DwcOPr62tq1qxpevToYRYvXuxcJr99mHML47Fjx1ymX/4czV3Tq6++aiIiIoy/v79p3bq1+eGHH/JcZ24XL14048ePN1FRUcbX19dERESYp556yuXW1NwWLlxoJJkhQ4bkOV+SSUpKcpmW337LeQ1cftvkli1bzF133WWqVKli/P39TWRkpOnTp4/54osvCt0/Ofsz9y2mO3fuNG3atDHlypUr9DbmgsbYGGMGDBhgvL29zd69e40xxixbtszExMSYgIAAU6dOHfPKK6+Yd999162Gw4cPm+7du5sKFSoYSS63Rp4+fdo89dRTpn79+sbPz89UrVrV3HLLLWby5MkmIyMj31pzxMTEmEGDBuW5Hwp7z7v8Fs8cRXkfudKeCtvXK1euNJLMnj17Ct0HKDqHMSV8VRWAMmv//v2KiorSpEmTNHr06Ku+vaVLl6pXr1768ssv87yOBNfe+++/r6SkJB04cCDfCybLol69esnhcDj/6BlKBtdEAPCYt99+W3Xr1tVtt93m6VLw/91///2qXbu288/DXw9y/lJvXtdm4MpwTQSAa27BggXatm2bPv30U02dOpX79ksRLy+vIv2flLLkxhtvLNYFmCg6QgSAa65fv34KCgrSoEGDuNANKMO4JgIAAFjhmggAAGCFEAEAAKxYXRORnZ2tP/74QxUqVOCCKAAAyghjjE6fPq0aNWq4/V8nG1Yh4o8//nD7D3oAAKBsOHjwoNt/mLZhFSJy/tTwwYMHr+jf46J0Sc/IVMsXv5AkbfxHR5X34+YdALienDp1ShEREc7j+JWyOkrkfIRRsWJFQsR1xCcjU17+5SVdGltCBABcn0rqUgQurAQAAFYIEQAAwAohAgAAWCFEAAAAK4QIAABghRABAACsECIAAIAVQgQAALBCiAAAAFYIEQAAwAohAgAAWCFEAAAAK4QIAABghRABAACsECIAAIAVQgQAALBCiAAAAFYIEQAAwAohAgAAWCFEAAAAK4QIAABghRABAACsECIAAIAVQgQAALBCiAAAAFYIEQAAwAohAgAAWCFEAAAAK4QIAABghRABAACsECIAAIAVQgQAALBCiAAAAFYIEQAAwAohAgAAWCFEAAAAK4QIAABghRABAACsECIAAIAVQgQAALBCiAAAAFYIEQAAwAohAgAAWCFEAAAAK4QIAABghRABAACsECIAAIAVQgQAALBCiAAAAFYIEQAAwAohAgAAWCFEAAAAK4QIAABghRABAACsECIAAIAVQgQAALBCiAAAAFYIEQAAwAohAgAAWCFEAAAAK4QIAABghRABAACsECIAAIAVQgQAALBCiAAAAFYIEQAAwAohAgAAWCFEAAAAK4QIAABghRABAACsECIAAIAVQgQAALBCiAAAAFYIEQAAwAohAgAAWCFEAAAAK4QIAABghRABAACsECIAAIAVQgQAALBCiAAAAFYIEQAAwAohAgAAWCFEAAAAK4QIAABghRABAACsECIAAIAVQgQAALBCiAAAAFYIEQAAwAohAgAAWCFEAAAAK4QIAABghRABAACsECIAAIAVQgQAALBCiAAAAFYIEQAAwAohAgAAWCFEAAAAK4QIAABghRABAACsECIAAIAVQgQAALBCiAAAAFYIEQAAwAohAgAAWCFEAAAAK4QIAABghRABAACsECIAAIAVQgQAALBCiAAAAFYIEQAAwAohAgAAWCFEAAAAK4QIAABghRABAACsECIAAIAVQgQAALBCiAAAAFYIEQAAwAohAgAAWCFEAAAAK4QIAABghRABAACsECIAAIAVQgQAALBCiAAAAFYIEQAAwAohAgAAWCFEAAAAK4QIAABghRABAACsECIAAIAVQgQAALBCiAAAAFYIEQAAwAohAgAAWCFEAAAAK4QIAABghRABAACsECIAAIAVQgQAALBCiAAAAFYIEQAAwAohAgAAWCFEAAAAK4QIAABghRABAACsECIAAIAVQgQAALBCiAAAAFYIEQAAwAohAgAAWCFEAAAAK4QIAABghRABAACsECIAAIAVQgQAALBCiAAAAFYIEQAAwAohAgAAWCFEAAAAK4QIAABghRABAACsECIAAIAVQgQAALBCiAAAAFYIEQAAwAohAgAAWCFEAAAAK4QIAABghRABAACsECIAAIAVQgQAALBCiAAAAFYIEQAAwAohAgAAWCFEAAAAKz5X8uD0jEz5ZGSWVC3wsPRcY5nOuALAdaek39uvKES0fPELefmXL6laUIrc/MIXni4BAFDCsi+kl+j6+DgDAABYcRhjTHEfdOrUKQUHB+vQsROqWLHi1agLHpCekek8A/HdMx1V3u+KTlQBAEqZU6dOqXpoFaWlpZXI8fuKjhLl/Xw40FynGFsAuP5klvD7Oh9nAAAAK4QIAABghRABAACsECIAAIAVQgQAALBCiAAAAFYIEQAAwAohAgAAWCFEAAAAK4QIAABghRABAACsECIAAIAVQgQAALBCiAAAAFYIEQAAwAohAgAAWCFEAAAAK4QIAABghRABAACsECIAAIAVQgQAALBCiAAAAFYIEQAAwAohAgAAWCFEAAAAK4QIAABghRABAACsECIAAIAVQgQAALBCiAAAAFYIEQAAwAohAgAAWCFEAAAAK4QIAABghRABAACsECIAAIAVQgQAALBCiAAAAFYIEQAAwAohAgAAWCFEAAAAK4QIAABghRABAACsECIAAIAVQgQAALBCiAAAAFYIEQAAwAohAgAAWCFEAAAAK4QIAABghRABAACsECIAAIAVQgQAALBCiAAAAFYIEQAAwAohAgAAWCFEAAAAK4QIAABghRABAACsECIAAIAVQgQAALBCiAAAAFYIEQAAwAohAgAAWCFEAAAAK4QIAABghRABAACsECIAAIAVQgQAALBCiAAAAFYIEQAAwAohAgAAWCFEAAAAK4QIAABghRABAACsECIAAIAVQgQAALBCiAAAAFYIEQAAwAohAgAAWCFEAAAAK4QIAABghRABAACsECIAAIAVQgQAALBCiAAAAFYIEQAAwAohAgAAWCFEAAAAK4QIAABghRABAACsECIAAIAVQgQAALBCiAAAAFYIEQAAwAohAgAAWCFEAAAAK4QIAABghRABAACsECIAAIAVQgQAALBCiAAAAFYIEQAAwAohAgAAWCFEAAAAK4QIAABghRABAACsECIAAIAVQgQAALBCiAAAAFYIEQAAwAohAgAAWCFEAAAAK4QIAABghRABAACsECIAAIAVQgQAALBCiAAAAFYIEQAAwAohAgAAWCFEAAAAK4QIAABghRABAACsECIAAIAVQgQAALBCiAAAAFYIEQAAwAohAgAAWCFEAAAAK4QIAABghRABAACsECIAAIAVQgQAALBCiAAAAFYIEQAAwAohAgAAWCFEAAAAK4QIAABghRABAACsECIAAIAVQgQAALBCiAAAAFYIEQAAwAohAgAAWCFEAAAAK4QIAABghRABAACsECIAAIAVQgQAALBCiAAAAFYIEQAAwAohAgAAWCFEAAAAK4QIAABghRABAACsECIAAIAVQgQAALBCiAAAAFYIEQAAwAohAgAAWCFEAAAAK4QIAABghRABAACsECIAAIAVQgQAALBCiAAAAFYIEQAAwAohAgAAWCFEAAAAK4QIAABghRABAACsECIAAIAVQgQAALBCiAAAAFYIEQAAwAohAgAAWCFEAAAAK4QIAABghRABAACsECIAAIAVQgQAALDiY/MgY4wk6dSpUyVaDDwrPSNT2RfSJV0a20w/q6cHAKCUyjlu5xzHr5TVUeLEiROSpIiIiBIpAqVP9SmergAAcLWcOHFCwcHBV7weqxBRuXJlSdKBAwdKpAhPOXXqlCIiInTw4EFVrFjR0+VYux76uB56kK6PPq6HHiT6KE2uhx6k66OPtLQ01a5d23kcv1JWIcLL69KlFMHBwWV2R+ZWsWJF+iglrocepOujj+uhB4k+SpProQfp+ugj5zh+xespkbUAAID/cwgRAADAilWI8Pf319ixY+Xv71/S9VxT9FF6XA89SNdHH9dDDxJ9lCbXQw/S9dFHSffgMCV1nwcAAPg/hY8zAACAFUIEAACwQogAAABWCBEAAMCKVYiYPn266tSpo4CAALVq1UobN24s6bquqnHjxsnhcLh83XDDDZ4uq0BffvmlevbsqRo1asjhcOjjjz92mW+M0XPPPafq1aurXLlyio+P1549ezxTbAEK62PAgAFuY9OlSxfPFJuPCRMmqEWLFqpQoYLCwsLUq1cv7dq1y2WZ8+fPKykpSVWqVFFQUJB69+6tI0eOeKjivBWlj3bt2rmNx9ChQz1UsbsZM2YoJibG+cd/4uLitHLlSuf8sjAOUuF9lPZxyMvLL78sh8OhkSNHOqeVlfHILa8+ysJ4FHacK6mxKHaI+Oijj/T4449r7Nix+v7779WsWTN17txZR48eLfbGPalJkyY6dOiQ8+vrr7/2dEkFOnv2rJo1a6bp06fnOX/ixIl644039K9//UspKSkKDAxU586ddf78+WtcacEK60OSunTp4jI28+fPv4YVFi45OVlJSUn69ttvtXr1al28eFGdOnXS2bNnncuMGjVKn3zyiRYtWqTk5GT98ccfuuuuuzxYtbui9CFJgwcPdhmPiRMneqhid7Vq1dLLL7+szZs367vvvlOHDh10xx13aMeOHZLKxjhIhfchle5xuNymTZs0c+ZMxcTEuEwvK+ORI78+pLIxHgUd50psLEwxtWzZ0iQlJTl/zsrKMjVq1DATJkwo7qo8ZuzYsaZZs2aeLsOaJLNkyRLnz9nZ2SY8PNxMmjTJOe3kyZPG39/fzJ8/3wMVFs3lfRhjTEJCgrnjjjs8Uo+to0ePGkkmOTnZGHNp3/v6+ppFixY5l/n555+NJLNhwwZPlVmoy/swxpi2bduaESNGeK4oC5UqVTLvvPNOmR2HHDl9GFO2xuH06dOmQYMGZvXq1S51l7XxyK8PY8rGeBR0nCvJsSjWmYiMjAxt3rxZ8fHxzmleXl6Kj4/Xhg0bip9gPGjPnj2qUaOG6tatq/vvv18HDhzwdEnWUlNTdfjwYZdxCQ4OVqtWrcrcuEjSunXrFBYWpkaNGmnYsGHO/xpbWqWlpUn6339Mt3nzZl28eNFlPG644QbVrl27VI/H5X3kmDdvnqpWraqmTZvqqaeeUnp6uifKK1RWVpYWLFigs2fPKi4ursyOw+V95Cgr45CUlKTu3bu77Hep7L0u8usjR1kYj/yOcyU5FsX6B1zHjx9XVlaWqlWr5jK9WrVq2rlzZ7E27EmtWrXSnDlz1KhRIx06dEjjx49X69attX37dlWoUMHT5RXb4cOHJSnPccmZV1Z06dJFd911l6KiorRv3z49/fTT6tq1qzZs2CBvb29Pl+cmOztbI0eO1K233qqmTZtKujQefn5+CgkJcVm2NI9HXn1I0n333afIyEjVqFFD27Zt03/+539q165d+p//+R8PVuvqxx9/VFxcnM6fP6+goCAtWbJEjRs31tatW8vUOOTXh1Q2xkGSFixYoO+//16bNm1ym1eWXhcF9SGVjfEo6DhXkmNh9V88y7quXbs6v4+JiVGrVq0UGRmphQsXatCgQR6sDH379nV+Hx0drZiYGNWrV0/r1q1Tx44dPVhZ3pKSkrR9+/ZSf01NYfLrY8iQIc7vo6OjVb16dXXs2FH79u1TvXr1rnWZeWrUqJG2bt2qtLQ0LV68WAkJCUpOTvZ0WcWWXx+NGzcuE+Nw8OBBjRgxQqtXr1ZAQICny7FWlD7KwngUdJwrV65ciW2nWB9nVK1aVd7e3m5XcB45ckTh4eElVtS1FhISooYNG2rv3r2eLsVKzr6/3sZFkurWrauqVauWyrEZPny4li9frrVr16pWrVrO6eHh4crIyNDJkyddli+t45FfH3lp1aqVJJWq8fDz81P9+vUVGxurCRMmqFmzZpo6dWqZG4f8+shLaRyHzZs36+jRo2revLl8fHzk4+Oj5ORkvfHGG/Lx8VG1atXKxHgU1kdWVpbbY0rjeFwu93GuJF8bxQoRfn5+io2N1RdffOGclp2drS+++MLls7uy5syZM9q3b5+qV6/u6VKsREVFKTw83GVcTp06pZSUlDI9LpL022+/6cSJE6VqbIwxGj58uJYsWaI1a9YoKirKZX5sbKx8fX1dxmPXrl06cOBAqRqPwvrIy9atWyWpVI3H5bKzs3XhwoUyMw75yekjL6VxHDp27Kgff/xRW7dudX7dfPPNuv/++53fl4XxKKyPvD5WLY3jcbncx7kSfW0U94rPBQsWGH9/fzNnzhzz008/mSFDhpiQkBBz+PDh4q7KY5544gmzbt06k5qaatavX2/i4+NN1apVzdGjRz1dWr5Onz5ttmzZYrZs2WIkmddee81s2bLF/Prrr8YYY15++WUTEhJili5darZt22buuOMOExUVZc6dO+fhyl0V1Mfp06fN6NGjzYYNG0xqaqr5/PPPTfPmzU2DBg3M+fPnPV2607Bhw0xwcLBZt26dOXTokPMrPT3duczQoUNN7dq1zZo1a8x3331n4uLiTFxcnAerdldYH3v37jX//Oc/zXfffWdSU1PN0qVLTd26dU2bNm08XPn/GjNmjElOTjapqalm27ZtZsyYMcbhcJh///vfxpiyMQ7GFNxHWRiH/Fx+F0NZGY/L5e6jrIxHYce5khqLYocIY4yZNm2aqV27tvHz8zMtW7Y03377rc1qPObee+811atXN35+fqZmzZrm3nvvNXv37vV0WQVau3atkeT2lZCQYIy5dJvns88+a6pVq2b8/f1Nx44dza5duzxbdB4K6iM9Pd106tTJhIaGGl9fXxMZGWkGDx5c6gJqXvVLMrNnz3Yuc+7cOfPII4+YSpUqmfLly5s777zTHDp0yHNF56GwPg4cOGDatGljKleubPz9/U39+vXN3//+d5OWlubZwnN56KGHTGRkpPHz8zOhoaGmY8eOzgBhTNkYB2MK7qMsjEN+Lg8RZWU8Lpe7j7IyHoUd50pqLPhX4AAAwAr/OwMAAFghRAAAACuECAAAYIUQAQAArBAiAACAFUIEAACwQogAAABWCBEAAMAKIQKAlQcffFAvvfTSFa2jb9++evXVV0uoIgDXGiECKOUGDBggh8Mhh8MhX19fRUVF6cknn9T58+eLtZ527dpp5MiRJVLTDz/8oBUrVuixxx5zTps8ebLCwsIUFhbmFgxSUlIUGxurzMxMl+nPPPOMXnzxRaWlpZVIXQCuLR9PFwCgcF26dNHs2bN18eJFbd68WQkJCXI4HHrllVc8Us+0adN0zz33KCgoSJK0bds2Pffcc1q+fLmMMerRo4c6deqk6OhoZWZmaujQoZo1a5Z8fFzfcpo2bap69erpgw8+UFJSkidaAXAFOBMBlAH+/v4KDw9XRESEevXqpfj4eK1evdo5/8SJE+rXr59q1qyp8uXLKzo6WvPnz3fOHzBggJKTkzV16lTnWY39+/dLkrZv366uXbsqKChI1apV04MPPqjjx4/nW0tWVpYWL16snj17Oqft3LlTMTEx6tChgzp27KiYmBjt3LlTkjRp0iS1adNGLVq0yHN9PXv21IIFC65k9wDwEEIEUMZs375d33zzjfz8/JzTzp8/r9jYWH366afavn27hgwZogcffFAbN26UJE2dOlVxcXEaPHiwDh06pEOHDikiIkInT55Uhw4d9Le//U3fffedPvvsMx05ckR9+vTJd/vbtm1TWlqabr75Zue06Oho7d69WwcOHNCvv/6q3bt3q2nTptq3b59mz56tF154Id/1tWzZUhs3btSFCxdKYO8AuJb4OAMoA5YvX66goCBlZmbqwoUL8vLy0ptvvumcX7NmTY0ePdr586OPPqpVq1Zp4cKFatmypYKDg+Xn56fy5csrPDzcudybb76pv/3tby4XSL777ruKiIjQ7t271bBhQ7dafv31V3l7eyssLMw57cYbb9RLL72k22+/XZI0YcIE3XjjjYqPj9fEiRO1atUqjRs3Tr6+vpo6daratGnjfGyNGjWUkZGhw4cPKzIysmR2GIBrghABlAHt27fXjBkzdPbsWb3++uvy8fFR7969nfOzsrL00ksvaeHChfr999+VkZGhCxcuqHz58gWu94cfftDatWud1zbktm/fvjxDxLlz5+Tv7y+Hw+EyfejQoRo6dKjz57lz56pChQqKi4tTo0aNtGnTJv3222/q27evUlNT5e/vL0kqV66cJCk9Pb3oOwRAqUCIAMqAwMBA1a9fX9KlMwXNmjXTf/3Xf2nQoEGSLl13MHXqVE2ZMkXR0dEKDAzUyJEjlZGRUeB6z5w5o549e+Z5gWb16tXzfEzVqlWVnp6ujIwMl49Ucjt+/LjGjx+vL7/8UikpKWrYsKEaNGigBg0a6OLFi9q9e7eio6MlSX/++ackKTQ0tGg7A0CpwTURQBnj5eWlp59+Ws8884zOnTsnSVq/fr3uuOMOPfDAA2rWrJnq1q2r3bt3uzzOz89PWVlZLtOaN2+uHTt2qE6dOqpfv77LV2BgYJ7bv+mmmyRJP/30U741jho1SqNGjVKtWrWUlZWlixcvOudlZma61LF9+3bVqlVLVatWLdZ+AOB5hAigDLrnnnvk7e2t6dOnS5IaNGig1atX65tvvtHPP/+sxMREHTlyxOUxderUUUpKivbv36/jx48rOztbSUlJ+vPPP9WvXz9t2rRJ+/bt06pVqzRw4EC3wJEjNDRUzZs319dff53n/NWrV2v37t3OWzZbtGihnTt3auXKlZo1a5a8vb3VqFEj5/JfffWVOnXqVBK7BcA1RogAyiAfHx8NHz5cEydO1NmzZ/XMM8+oefPm6ty5s9q1a6fw8HD16tXL5TGjR4+Wt7e3GjdurNDQUB04cEA1atTQ+vXrlZWV5fy7DiNHjlRISIi8vPJ/e3j44Yc1b948t+nnzp3T8OHDNXPmTOfja9WqpWnTpmngwIF68cUXNXfuXOd1EOfPn9fHH3+swYMHl9zOAXDNOIwxxtNFAChbzp07p0aNGumjjz5SXFyc9XpmzJihJUuW6N///ncJVgfgWuFMBIBiK1eunN57770C/yhVUfj6+mratGklVBWAa40zEQAAwApnIgAAgBVCBAAAsEKIAAAAVggRAADACiECAABYIUQAAAArhAgAAGCFEAEAAKwQIgAAgJX/B974QdORdtTEAAAAAElFTkSuQmCC\n"
                },
                "metadata": {}
              }
            ]
          }
        },
        "06f843c45d2e4bb2973de6d1a5c667fa": {
          "model_module": "@jupyter-widgets/base",
          "model_name": "LayoutModel",
          "model_module_version": "1.2.0",
          "state": {
            "_model_module": "@jupyter-widgets/base",
            "_model_module_version": "1.2.0",
            "_model_name": "LayoutModel",
            "_view_count": null,
            "_view_module": "@jupyter-widgets/base",
            "_view_module_version": "1.2.0",
            "_view_name": "LayoutView",
            "align_content": null,
            "align_items": null,
            "align_self": null,
            "border": null,
            "bottom": null,
            "display": null,
            "flex": null,
            "flex_flow": null,
            "grid_area": null,
            "grid_auto_columns": null,
            "grid_auto_flow": null,
            "grid_auto_rows": null,
            "grid_column": null,
            "grid_gap": null,
            "grid_row": null,
            "grid_template_areas": null,
            "grid_template_columns": null,
            "grid_template_rows": null,
            "height": null,
            "justify_content": null,
            "justify_items": null,
            "left": null,
            "margin": null,
            "max_height": null,
            "max_width": null,
            "min_height": null,
            "min_width": null,
            "object_fit": null,
            "object_position": null,
            "order": null,
            "overflow": null,
            "overflow_x": null,
            "overflow_y": null,
            "padding": null,
            "right": null,
            "top": null,
            "visibility": null,
            "width": null
          }
        },
        "dcbfbd27c7394f198b8f1ba760003834": {
          "model_module": "@jupyter-widgets/base",
          "model_name": "LayoutModel",
          "model_module_version": "1.2.0",
          "state": {
            "_model_module": "@jupyter-widgets/base",
            "_model_module_version": "1.2.0",
            "_model_name": "LayoutModel",
            "_view_count": null,
            "_view_module": "@jupyter-widgets/base",
            "_view_module_version": "1.2.0",
            "_view_name": "LayoutView",
            "align_content": null,
            "align_items": null,
            "align_self": null,
            "border": null,
            "bottom": null,
            "display": null,
            "flex": null,
            "flex_flow": null,
            "grid_area": null,
            "grid_auto_columns": null,
            "grid_auto_flow": null,
            "grid_auto_rows": null,
            "grid_column": null,
            "grid_gap": null,
            "grid_row": null,
            "grid_template_areas": null,
            "grid_template_columns": null,
            "grid_template_rows": null,
            "height": null,
            "justify_content": null,
            "justify_items": null,
            "left": null,
            "margin": null,
            "max_height": null,
            "max_width": null,
            "min_height": null,
            "min_width": null,
            "object_fit": null,
            "object_position": null,
            "order": null,
            "overflow": null,
            "overflow_x": null,
            "overflow_y": null,
            "padding": null,
            "right": null,
            "top": null,
            "visibility": null,
            "width": "95%"
          }
        },
        "ae14518e03df409c84ce6aad712cf735": {
          "model_module": "@jupyter-widgets/controls",
          "model_name": "DescriptionStyleModel",
          "model_module_version": "1.5.0",
          "state": {
            "_model_module": "@jupyter-widgets/controls",
            "_model_module_version": "1.5.0",
            "_model_name": "DescriptionStyleModel",
            "_view_count": null,
            "_view_module": "@jupyter-widgets/base",
            "_view_module_version": "1.2.0",
            "_view_name": "StyleView",
            "description_width": ""
          }
        },
        "59c5e86888b944f1a6b02ac05f04246b": {
          "model_module": "@jupyter-widgets/base",
          "model_name": "LayoutModel",
          "model_module_version": "1.2.0",
          "state": {
            "_model_module": "@jupyter-widgets/base",
            "_model_module_version": "1.2.0",
            "_model_name": "LayoutModel",
            "_view_count": null,
            "_view_module": "@jupyter-widgets/base",
            "_view_module_version": "1.2.0",
            "_view_name": "LayoutView",
            "align_content": null,
            "align_items": null,
            "align_self": null,
            "border": null,
            "bottom": null,
            "display": null,
            "flex": null,
            "flex_flow": null,
            "grid_area": null,
            "grid_auto_columns": null,
            "grid_auto_flow": null,
            "grid_auto_rows": null,
            "grid_column": null,
            "grid_gap": null,
            "grid_row": null,
            "grid_template_areas": null,
            "grid_template_columns": null,
            "grid_template_rows": null,
            "height": null,
            "justify_content": null,
            "justify_items": null,
            "left": null,
            "margin": null,
            "max_height": null,
            "max_width": null,
            "min_height": null,
            "min_width": null,
            "object_fit": null,
            "object_position": null,
            "order": null,
            "overflow": null,
            "overflow_x": null,
            "overflow_y": null,
            "padding": null,
            "right": null,
            "top": null,
            "visibility": null,
            "width": "95%"
          }
        },
        "8c04f686502548ac9faf2a42b5417042": {
          "model_module": "@jupyter-widgets/controls",
          "model_name": "SliderStyleModel",
          "model_module_version": "1.5.0",
          "state": {
            "_model_module": "@jupyter-widgets/controls",
            "_model_module_version": "1.5.0",
            "_model_name": "SliderStyleModel",
            "_view_count": null,
            "_view_module": "@jupyter-widgets/base",
            "_view_module_version": "1.2.0",
            "_view_name": "StyleView",
            "description_width": "",
            "handle_color": null
          }
        },
        "899b078f9173482d882f5725d571536b": {
          "model_module": "@jupyter-widgets/base",
          "model_name": "LayoutModel",
          "model_module_version": "1.2.0",
          "state": {
            "_model_module": "@jupyter-widgets/base",
            "_model_module_version": "1.2.0",
            "_model_name": "LayoutModel",
            "_view_count": null,
            "_view_module": "@jupyter-widgets/base",
            "_view_module_version": "1.2.0",
            "_view_name": "LayoutView",
            "align_content": null,
            "align_items": null,
            "align_self": null,
            "border": null,
            "bottom": null,
            "display": null,
            "flex": null,
            "flex_flow": null,
            "grid_area": null,
            "grid_auto_columns": null,
            "grid_auto_flow": null,
            "grid_auto_rows": null,
            "grid_column": null,
            "grid_gap": null,
            "grid_row": null,
            "grid_template_areas": null,
            "grid_template_columns": null,
            "grid_template_rows": null,
            "height": null,
            "justify_content": null,
            "justify_items": null,
            "left": null,
            "margin": null,
            "max_height": null,
            "max_width": null,
            "min_height": null,
            "min_width": null,
            "object_fit": null,
            "object_position": null,
            "order": null,
            "overflow": null,
            "overflow_x": null,
            "overflow_y": null,
            "padding": null,
            "right": null,
            "top": null,
            "visibility": null,
            "width": "95%"
          }
        },
        "6d07b6668712426889518dc30c790622": {
          "model_module": "@jupyter-widgets/controls",
          "model_name": "SliderStyleModel",
          "model_module_version": "1.5.0",
          "state": {
            "_model_module": "@jupyter-widgets/controls",
            "_model_module_version": "1.5.0",
            "_model_name": "SliderStyleModel",
            "_view_count": null,
            "_view_module": "@jupyter-widgets/base",
            "_view_module_version": "1.2.0",
            "_view_name": "StyleView",
            "description_width": "",
            "handle_color": null
          }
        },
        "afa4b6b05c4747478cf43690b7fde528": {
          "model_module": "@jupyter-widgets/base",
          "model_name": "LayoutModel",
          "model_module_version": "1.2.0",
          "state": {
            "_model_module": "@jupyter-widgets/base",
            "_model_module_version": "1.2.0",
            "_model_name": "LayoutModel",
            "_view_count": null,
            "_view_module": "@jupyter-widgets/base",
            "_view_module_version": "1.2.0",
            "_view_name": "LayoutView",
            "align_content": null,
            "align_items": null,
            "align_self": null,
            "border": null,
            "bottom": null,
            "display": null,
            "flex": null,
            "flex_flow": null,
            "grid_area": null,
            "grid_auto_columns": null,
            "grid_auto_flow": null,
            "grid_auto_rows": null,
            "grid_column": null,
            "grid_gap": null,
            "grid_row": null,
            "grid_template_areas": null,
            "grid_template_columns": null,
            "grid_template_rows": null,
            "height": null,
            "justify_content": null,
            "justify_items": null,
            "left": null,
            "margin": null,
            "max_height": null,
            "max_width": null,
            "min_height": null,
            "min_width": null,
            "object_fit": null,
            "object_position": null,
            "order": null,
            "overflow": null,
            "overflow_x": null,
            "overflow_y": null,
            "padding": null,
            "right": null,
            "top": null,
            "visibility": null,
            "width": "95%"
          }
        },
        "aa25240986234e51b5b464a1cfb8f5af": {
          "model_module": "@jupyter-widgets/controls",
          "model_name": "SliderStyleModel",
          "model_module_version": "1.5.0",
          "state": {
            "_model_module": "@jupyter-widgets/controls",
            "_model_module_version": "1.5.0",
            "_model_name": "SliderStyleModel",
            "_view_count": null,
            "_view_module": "@jupyter-widgets/base",
            "_view_module_version": "1.2.0",
            "_view_name": "StyleView",
            "description_width": "",
            "handle_color": null
          }
        },
        "84005d61afaf49878c8f62f69ec56f49": {
          "model_module": "@jupyter-widgets/controls",
          "model_name": "ButtonModel",
          "model_module_version": "1.5.0",
          "state": {
            "_dom_classes": [],
            "_model_module": "@jupyter-widgets/controls",
            "_model_module_version": "1.5.0",
            "_model_name": "ButtonModel",
            "_view_count": null,
            "_view_module": "@jupyter-widgets/controls",
            "_view_module_version": "1.5.0",
            "_view_name": "ButtonView",
            "button_style": "primary",
            "description": "Predict Youth Unemployment (%)",
            "disabled": false,
            "icon": "",
            "layout": "IPY_MODEL_a64cb4d0f03f422dad7d6a74ea9bf8ea",
            "style": "IPY_MODEL_7ab8dc3f2f514131a05c6d50872afc73",
            "tooltip": ""
          }
        },
        "691c3072c50e487aa332c402cc90bdc8": {
          "model_module": "@jupyter-widgets/controls",
          "model_name": "ButtonModel",
          "model_module_version": "1.5.0",
          "state": {
            "_dom_classes": [],
            "_model_module": "@jupyter-widgets/controls",
            "_model_module_version": "1.5.0",
            "_model_name": "ButtonModel",
            "_view_count": null,
            "_view_module": "@jupyter-widgets/controls",
            "_view_module_version": "1.5.0",
            "_view_name": "ButtonView",
            "button_style": "",
            "description": "Reset",
            "disabled": false,
            "icon": "",
            "layout": "IPY_MODEL_9e044582535c49168349eb426427f4ce",
            "style": "IPY_MODEL_2f12e4211b4e4329ad2a6481defac567",
            "tooltip": ""
          }
        },
        "9c10dc146b5146ac9055b30153c464b2": {
          "model_module": "@jupyter-widgets/base",
          "model_name": "LayoutModel",
          "model_module_version": "1.2.0",
          "state": {
            "_model_module": "@jupyter-widgets/base",
            "_model_module_version": "1.2.0",
            "_model_name": "LayoutModel",
            "_view_count": null,
            "_view_module": "@jupyter-widgets/base",
            "_view_module_version": "1.2.0",
            "_view_name": "LayoutView",
            "align_content": null,
            "align_items": null,
            "align_self": null,
            "border": null,
            "bottom": null,
            "display": null,
            "flex": null,
            "flex_flow": null,
            "grid_area": null,
            "grid_auto_columns": null,
            "grid_auto_flow": null,
            "grid_auto_rows": null,
            "grid_column": null,
            "grid_gap": null,
            "grid_row": null,
            "grid_template_areas": null,
            "grid_template_columns": null,
            "grid_template_rows": null,
            "height": null,
            "justify_content": "space-between",
            "justify_items": null,
            "left": null,
            "margin": null,
            "max_height": null,
            "max_width": null,
            "min_height": null,
            "min_width": null,
            "object_fit": null,
            "object_position": null,
            "order": null,
            "overflow": null,
            "overflow_x": null,
            "overflow_y": null,
            "padding": null,
            "right": null,
            "top": null,
            "visibility": null,
            "width": "95%"
          }
        },
        "a64cb4d0f03f422dad7d6a74ea9bf8ea": {
          "model_module": "@jupyter-widgets/base",
          "model_name": "LayoutModel",
          "model_module_version": "1.2.0",
          "state": {
            "_model_module": "@jupyter-widgets/base",
            "_model_module_version": "1.2.0",
            "_model_name": "LayoutModel",
            "_view_count": null,
            "_view_module": "@jupyter-widgets/base",
            "_view_module_version": "1.2.0",
            "_view_name": "LayoutView",
            "align_content": null,
            "align_items": null,
            "align_self": null,
            "border": null,
            "bottom": null,
            "display": null,
            "flex": null,
            "flex_flow": null,
            "grid_area": null,
            "grid_auto_columns": null,
            "grid_auto_flow": null,
            "grid_auto_rows": null,
            "grid_column": null,
            "grid_gap": null,
            "grid_row": null,
            "grid_template_areas": null,
            "grid_template_columns": null,
            "grid_template_rows": null,
            "height": null,
            "justify_content": null,
            "justify_items": null,
            "left": null,
            "margin": null,
            "max_height": null,
            "max_width": null,
            "min_height": null,
            "min_width": null,
            "object_fit": null,
            "object_position": null,
            "order": null,
            "overflow": null,
            "overflow_x": null,
            "overflow_y": null,
            "padding": null,
            "right": null,
            "top": null,
            "visibility": null,
            "width": "47%"
          }
        },
        "7ab8dc3f2f514131a05c6d50872afc73": {
          "model_module": "@jupyter-widgets/controls",
          "model_name": "ButtonStyleModel",
          "model_module_version": "1.5.0",
          "state": {
            "_model_module": "@jupyter-widgets/controls",
            "_model_module_version": "1.5.0",
            "_model_name": "ButtonStyleModel",
            "_view_count": null,
            "_view_module": "@jupyter-widgets/base",
            "_view_module_version": "1.2.0",
            "_view_name": "StyleView",
            "button_color": null,
            "font_weight": ""
          }
        },
        "9e044582535c49168349eb426427f4ce": {
          "model_module": "@jupyter-widgets/base",
          "model_name": "LayoutModel",
          "model_module_version": "1.2.0",
          "state": {
            "_model_module": "@jupyter-widgets/base",
            "_model_module_version": "1.2.0",
            "_model_name": "LayoutModel",
            "_view_count": null,
            "_view_module": "@jupyter-widgets/base",
            "_view_module_version": "1.2.0",
            "_view_name": "LayoutView",
            "align_content": null,
            "align_items": null,
            "align_self": null,
            "border": null,
            "bottom": null,
            "display": null,
            "flex": null,
            "flex_flow": null,
            "grid_area": null,
            "grid_auto_columns": null,
            "grid_auto_flow": null,
            "grid_auto_rows": null,
            "grid_column": null,
            "grid_gap": null,
            "grid_row": null,
            "grid_template_areas": null,
            "grid_template_columns": null,
            "grid_template_rows": null,
            "height": null,
            "justify_content": null,
            "justify_items": null,
            "left": null,
            "margin": null,
            "max_height": null,
            "max_width": null,
            "min_height": null,
            "min_width": null,
            "object_fit": null,
            "object_position": null,
            "order": null,
            "overflow": null,
            "overflow_x": null,
            "overflow_y": null,
            "padding": null,
            "right": null,
            "top": null,
            "visibility": null,
            "width": "47%"
          }
        },
        "2f12e4211b4e4329ad2a6481defac567": {
          "model_module": "@jupyter-widgets/controls",
          "model_name": "ButtonStyleModel",
          "model_module_version": "1.5.0",
          "state": {
            "_model_module": "@jupyter-widgets/controls",
            "_model_module_version": "1.5.0",
            "_model_name": "ButtonStyleModel",
            "_view_count": null,
            "_view_module": "@jupyter-widgets/base",
            "_view_module_version": "1.2.0",
            "_view_name": "StyleView",
            "button_color": null,
            "font_weight": ""
          }
        },
        "da6f6a7cb1ac4fe7854b0fef268d23b9": {
          "model_module": "@jupyter-widgets/base",
          "model_name": "LayoutModel",
          "model_module_version": "1.2.0",
          "state": {
            "_model_module": "@jupyter-widgets/base",
            "_model_module_version": "1.2.0",
            "_model_name": "LayoutModel",
            "_view_count": null,
            "_view_module": "@jupyter-widgets/base",
            "_view_module_version": "1.2.0",
            "_view_name": "LayoutView",
            "align_content": null,
            "align_items": null,
            "align_self": null,
            "border": "1px solid #ddd",
            "bottom": null,
            "display": null,
            "flex": null,
            "flex_flow": null,
            "grid_area": null,
            "grid_auto_columns": null,
            "grid_auto_flow": null,
            "grid_auto_rows": null,
            "grid_column": null,
            "grid_gap": null,
            "grid_row": null,
            "grid_template_areas": null,
            "grid_template_columns": null,
            "grid_template_rows": null,
            "height": null,
            "justify_content": null,
            "justify_items": null,
            "left": null,
            "margin": null,
            "max_height": null,
            "max_width": null,
            "min_height": null,
            "min_width": null,
            "object_fit": null,
            "object_position": null,
            "order": null,
            "overflow": null,
            "overflow_x": null,
            "overflow_y": null,
            "padding": "8px",
            "right": null,
            "top": null,
            "visibility": null,
            "width": "95%"
          }
        }
      }
    }
  },
  "cells": [
    {
      "cell_type": "markdown",
      "metadata": {
        "id": "view-in-github",
        "colab_type": "text"
      },
      "source": [
        "<a href=\"https://colab.research.google.com/github/Nkeeydata/Unemployment_Prediction/blob/main/YouthUnemploymentPrediction.ipynb\" target=\"_parent\"><img src=\"https://colab.research.google.com/assets/colab-badge.svg\" alt=\"Open In Colab\"/></a>"
      ]
    },
    {
      "cell_type": "markdown",
      "source": [
        "### Predicting Youth Unemployment in Africa"
      ],
      "metadata": {
        "id": "X4oZUf9wLOGr"
      }
    },
    {
      "cell_type": "code",
      "execution_count": 3,
      "metadata": {
        "colab": {
          "base_uri": "https://localhost:8080/"
        },
        "id": "-IrhL6mJ_ETz",
        "outputId": "549dd0ad-667b-4cb3-88d0-2b1249c337b2"
      },
      "outputs": [
        {
          "output_type": "stream",
          "name": "stdout",
          "text": [
            "3.12.12 (main, Oct 10 2025, 08:52:57) [GCC 11.4.0]\n"
          ]
        }
      ],
      "source": [
        "# Import the Libraries\n",
        "\n",
        "import pandas as pd\n",
        "import matplotlib.pyplot as plt\n",
        "from sklearn.model_selection import train_test_split\n",
        "from sklearn.linear_model import LinearRegression\n",
        "from sklearn.metrics import mean_absolute_error, r2_score\n",
        "from pathlib import Path\n",
        "\n",
        "import sys\n",
        "print(sys.version)"
      ]
    },
    {
      "cell_type": "markdown",
      "source": [
        "### Loading the Dataset, which is a synthentic data"
      ],
      "metadata": {
        "id": "Eoe0b6oyMJnR"
      }
    },
    {
      "cell_type": "code",
      "source": [
        "# Hosted on GitHub (Colab-friendly)\n",
        "url = \"https://raw.githubusercontent.com/lekanakin/DSN_AI_Bootcamp25/main/youth_unemployment_africa.csv\"\n",
        "data = pd.read_csv(url)\n"
      ],
      "metadata": {
        "id": "7kzV5ALl_K5q"
      },
      "execution_count": 4,
      "outputs": []
    },
    {
      "cell_type": "markdown",
      "source": [
        "### Performing Exploratory Data Analysis (EDA)"
      ],
      "metadata": {
        "id": "OEK87GnnMafo"
      }
    },
    {
      "cell_type": "code",
      "source": [
        "data.info()\n",
        "display(data.describe(include='all'))\n",
        "\n"
      ],
      "metadata": {
        "colab": {
          "base_uri": "https://localhost:8080/",
          "height": 620
        },
        "id": "a5R4iarg_hb4",
        "outputId": "32538564-eab1-4093-88ad-9af98e520363"
      },
      "execution_count": 5,
      "outputs": [
        {
          "output_type": "stream",
          "name": "stdout",
          "text": [
            "<class 'pandas.core.frame.DataFrame'>\n",
            "RangeIndex: 40 entries, 0 to 39\n",
            "Data columns (total 6 columns):\n",
            " #   Column                    Non-Null Count  Dtype  \n",
            "---  ------                    --------------  -----  \n",
            " 0   Country                   40 non-null     object \n",
            " 1   Year                      40 non-null     int64  \n",
            " 2   GDP_Per_Capita            40 non-null     float64\n",
            " 3   Education_Index           40 non-null     float64\n",
            " 4   Urban_Population_Percent  40 non-null     float64\n",
            " 5   Youth_Unemployment_Rate   40 non-null     float64\n",
            "dtypes: float64(4), int64(1), object(1)\n",
            "memory usage: 2.0+ KB\n"
          ]
        },
        {
          "output_type": "display_data",
          "data": {
            "text/plain": [
              "        Country    Year  GDP_Per_Capita  Education_Index  \\\n",
              "count        40    40.0       40.000000        40.000000   \n",
              "unique       40     NaN             NaN              NaN   \n",
              "top     Nigeria     NaN             NaN              NaN   \n",
              "freq          1     NaN             NaN              NaN   \n",
              "mean        NaN  2021.0     4252.018000         0.584575   \n",
              "std         NaN     0.0     2256.927683         0.088989   \n",
              "min         NaN  2021.0      951.040000         0.459000   \n",
              "25%         NaN  2021.0     2280.447500         0.513000   \n",
              "50%         NaN  2021.0     3883.155000         0.567500   \n",
              "75%         NaN  2021.0     6243.655000         0.670500   \n",
              "max         NaN  2021.0     7794.010000         0.739000   \n",
              "\n",
              "        Urban_Population_Percent  Youth_Unemployment_Rate  \n",
              "count                  40.000000                40.000000  \n",
              "unique                       NaN                      NaN  \n",
              "top                          NaN                      NaN  \n",
              "freq                         NaN                      NaN  \n",
              "mean                   45.735000                11.402500  \n",
              "std                    16.800695                 4.270921  \n",
              "min                    18.400000                 3.000000  \n",
              "25%                    32.700000                 8.025000  \n",
              "50%                    46.900000                11.350000  \n",
              "75%                    61.750000                15.175000  \n",
              "max                    72.100000                19.000000  "
            ],
            "text/html": [
              "\n",
              "  <div id=\"df-8b6e6cc6-e5ab-4d48-aadc-eedc61fbfda7\" class=\"colab-df-container\">\n",
              "    <div>\n",
              "<style scoped>\n",
              "    .dataframe tbody tr th:only-of-type {\n",
              "        vertical-align: middle;\n",
              "    }\n",
              "\n",
              "    .dataframe tbody tr th {\n",
              "        vertical-align: top;\n",
              "    }\n",
              "\n",
              "    .dataframe thead th {\n",
              "        text-align: right;\n",
              "    }\n",
              "</style>\n",
              "<table border=\"1\" class=\"dataframe\">\n",
              "  <thead>\n",
              "    <tr style=\"text-align: right;\">\n",
              "      <th></th>\n",
              "      <th>Country</th>\n",
              "      <th>Year</th>\n",
              "      <th>GDP_Per_Capita</th>\n",
              "      <th>Education_Index</th>\n",
              "      <th>Urban_Population_Percent</th>\n",
              "      <th>Youth_Unemployment_Rate</th>\n",
              "    </tr>\n",
              "  </thead>\n",
              "  <tbody>\n",
              "    <tr>\n",
              "      <th>count</th>\n",
              "      <td>40</td>\n",
              "      <td>40.0</td>\n",
              "      <td>40.000000</td>\n",
              "      <td>40.000000</td>\n",
              "      <td>40.000000</td>\n",
              "      <td>40.000000</td>\n",
              "    </tr>\n",
              "    <tr>\n",
              "      <th>unique</th>\n",
              "      <td>40</td>\n",
              "      <td>NaN</td>\n",
              "      <td>NaN</td>\n",
              "      <td>NaN</td>\n",
              "      <td>NaN</td>\n",
              "      <td>NaN</td>\n",
              "    </tr>\n",
              "    <tr>\n",
              "      <th>top</th>\n",
              "      <td>Nigeria</td>\n",
              "      <td>NaN</td>\n",
              "      <td>NaN</td>\n",
              "      <td>NaN</td>\n",
              "      <td>NaN</td>\n",
              "      <td>NaN</td>\n",
              "    </tr>\n",
              "    <tr>\n",
              "      <th>freq</th>\n",
              "      <td>1</td>\n",
              "      <td>NaN</td>\n",
              "      <td>NaN</td>\n",
              "      <td>NaN</td>\n",
              "      <td>NaN</td>\n",
              "      <td>NaN</td>\n",
              "    </tr>\n",
              "    <tr>\n",
              "      <th>mean</th>\n",
              "      <td>NaN</td>\n",
              "      <td>2021.0</td>\n",
              "      <td>4252.018000</td>\n",
              "      <td>0.584575</td>\n",
              "      <td>45.735000</td>\n",
              "      <td>11.402500</td>\n",
              "    </tr>\n",
              "    <tr>\n",
              "      <th>std</th>\n",
              "      <td>NaN</td>\n",
              "      <td>0.0</td>\n",
              "      <td>2256.927683</td>\n",
              "      <td>0.088989</td>\n",
              "      <td>16.800695</td>\n",
              "      <td>4.270921</td>\n",
              "    </tr>\n",
              "    <tr>\n",
              "      <th>min</th>\n",
              "      <td>NaN</td>\n",
              "      <td>2021.0</td>\n",
              "      <td>951.040000</td>\n",
              "      <td>0.459000</td>\n",
              "      <td>18.400000</td>\n",
              "      <td>3.000000</td>\n",
              "    </tr>\n",
              "    <tr>\n",
              "      <th>25%</th>\n",
              "      <td>NaN</td>\n",
              "      <td>2021.0</td>\n",
              "      <td>2280.447500</td>\n",
              "      <td>0.513000</td>\n",
              "      <td>32.700000</td>\n",
              "      <td>8.025000</td>\n",
              "    </tr>\n",
              "    <tr>\n",
              "      <th>50%</th>\n",
              "      <td>NaN</td>\n",
              "      <td>2021.0</td>\n",
              "      <td>3883.155000</td>\n",
              "      <td>0.567500</td>\n",
              "      <td>46.900000</td>\n",
              "      <td>11.350000</td>\n",
              "    </tr>\n",
              "    <tr>\n",
              "      <th>75%</th>\n",
              "      <td>NaN</td>\n",
              "      <td>2021.0</td>\n",
              "      <td>6243.655000</td>\n",
              "      <td>0.670500</td>\n",
              "      <td>61.750000</td>\n",
              "      <td>15.175000</td>\n",
              "    </tr>\n",
              "    <tr>\n",
              "      <th>max</th>\n",
              "      <td>NaN</td>\n",
              "      <td>2021.0</td>\n",
              "      <td>7794.010000</td>\n",
              "      <td>0.739000</td>\n",
              "      <td>72.100000</td>\n",
              "      <td>19.000000</td>\n",
              "    </tr>\n",
              "  </tbody>\n",
              "</table>\n",
              "</div>\n",
              "    <div class=\"colab-df-buttons\">\n",
              "\n",
              "  <div class=\"colab-df-container\">\n",
              "    <button class=\"colab-df-convert\" onclick=\"convertToInteractive('df-8b6e6cc6-e5ab-4d48-aadc-eedc61fbfda7')\"\n",
              "            title=\"Convert this dataframe to an interactive table.\"\n",
              "            style=\"display:none;\">\n",
              "\n",
              "  <svg xmlns=\"http://www.w3.org/2000/svg\" height=\"24px\" viewBox=\"0 -960 960 960\">\n",
              "    <path d=\"M120-120v-720h720v720H120Zm60-500h600v-160H180v160Zm220 220h160v-160H400v160Zm0 220h160v-160H400v160ZM180-400h160v-160H180v160Zm440 0h160v-160H620v160ZM180-180h160v-160H180v160Zm440 0h160v-160H620v160Z\"/>\n",
              "  </svg>\n",
              "    </button>\n",
              "\n",
              "  <style>\n",
              "    .colab-df-container {\n",
              "      display:flex;\n",
              "      gap: 12px;\n",
              "    }\n",
              "\n",
              "    .colab-df-convert {\n",
              "      background-color: #E8F0FE;\n",
              "      border: none;\n",
              "      border-radius: 50%;\n",
              "      cursor: pointer;\n",
              "      display: none;\n",
              "      fill: #1967D2;\n",
              "      height: 32px;\n",
              "      padding: 0 0 0 0;\n",
              "      width: 32px;\n",
              "    }\n",
              "\n",
              "    .colab-df-convert:hover {\n",
              "      background-color: #E2EBFA;\n",
              "      box-shadow: 0px 1px 2px rgba(60, 64, 67, 0.3), 0px 1px 3px 1px rgba(60, 64, 67, 0.15);\n",
              "      fill: #174EA6;\n",
              "    }\n",
              "\n",
              "    .colab-df-buttons div {\n",
              "      margin-bottom: 4px;\n",
              "    }\n",
              "\n",
              "    [theme=dark] .colab-df-convert {\n",
              "      background-color: #3B4455;\n",
              "      fill: #D2E3FC;\n",
              "    }\n",
              "\n",
              "    [theme=dark] .colab-df-convert:hover {\n",
              "      background-color: #434B5C;\n",
              "      box-shadow: 0px 1px 3px 1px rgba(0, 0, 0, 0.15);\n",
              "      filter: drop-shadow(0px 1px 2px rgba(0, 0, 0, 0.3));\n",
              "      fill: #FFFFFF;\n",
              "    }\n",
              "  </style>\n",
              "\n",
              "    <script>\n",
              "      const buttonEl =\n",
              "        document.querySelector('#df-8b6e6cc6-e5ab-4d48-aadc-eedc61fbfda7 button.colab-df-convert');\n",
              "      buttonEl.style.display =\n",
              "        google.colab.kernel.accessAllowed ? 'block' : 'none';\n",
              "\n",
              "      async function convertToInteractive(key) {\n",
              "        const element = document.querySelector('#df-8b6e6cc6-e5ab-4d48-aadc-eedc61fbfda7');\n",
              "        const dataTable =\n",
              "          await google.colab.kernel.invokeFunction('convertToInteractive',\n",
              "                                                    [key], {});\n",
              "        if (!dataTable) return;\n",
              "\n",
              "        const docLinkHtml = 'Like what you see? Visit the ' +\n",
              "          '<a target=\"_blank\" href=https://colab.research.google.com/notebooks/data_table.ipynb>data table notebook</a>'\n",
              "          + ' to learn more about interactive tables.';\n",
              "        element.innerHTML = '';\n",
              "        dataTable['output_type'] = 'display_data';\n",
              "        await google.colab.output.renderOutput(dataTable, element);\n",
              "        const docLink = document.createElement('div');\n",
              "        docLink.innerHTML = docLinkHtml;\n",
              "        element.appendChild(docLink);\n",
              "      }\n",
              "    </script>\n",
              "  </div>\n",
              "\n",
              "\n",
              "    <div id=\"df-a8bdc551-66a4-4f07-bbaa-10e54a0b3134\">\n",
              "      <button class=\"colab-df-quickchart\" onclick=\"quickchart('df-a8bdc551-66a4-4f07-bbaa-10e54a0b3134')\"\n",
              "                title=\"Suggest charts\"\n",
              "                style=\"display:none;\">\n",
              "\n",
              "<svg xmlns=\"http://www.w3.org/2000/svg\" height=\"24px\"viewBox=\"0 0 24 24\"\n",
              "     width=\"24px\">\n",
              "    <g>\n",
              "        <path d=\"M19 3H5c-1.1 0-2 .9-2 2v14c0 1.1.9 2 2 2h14c1.1 0 2-.9 2-2V5c0-1.1-.9-2-2-2zM9 17H7v-7h2v7zm4 0h-2V7h2v10zm4 0h-2v-4h2v4z\"/>\n",
              "    </g>\n",
              "</svg>\n",
              "      </button>\n",
              "\n",
              "<style>\n",
              "  .colab-df-quickchart {\n",
              "      --bg-color: #E8F0FE;\n",
              "      --fill-color: #1967D2;\n",
              "      --hover-bg-color: #E2EBFA;\n",
              "      --hover-fill-color: #174EA6;\n",
              "      --disabled-fill-color: #AAA;\n",
              "      --disabled-bg-color: #DDD;\n",
              "  }\n",
              "\n",
              "  [theme=dark] .colab-df-quickchart {\n",
              "      --bg-color: #3B4455;\n",
              "      --fill-color: #D2E3FC;\n",
              "      --hover-bg-color: #434B5C;\n",
              "      --hover-fill-color: #FFFFFF;\n",
              "      --disabled-bg-color: #3B4455;\n",
              "      --disabled-fill-color: #666;\n",
              "  }\n",
              "\n",
              "  .colab-df-quickchart {\n",
              "    background-color: var(--bg-color);\n",
              "    border: none;\n",
              "    border-radius: 50%;\n",
              "    cursor: pointer;\n",
              "    display: none;\n",
              "    fill: var(--fill-color);\n",
              "    height: 32px;\n",
              "    padding: 0;\n",
              "    width: 32px;\n",
              "  }\n",
              "\n",
              "  .colab-df-quickchart:hover {\n",
              "    background-color: var(--hover-bg-color);\n",
              "    box-shadow: 0 1px 2px rgba(60, 64, 67, 0.3), 0 1px 3px 1px rgba(60, 64, 67, 0.15);\n",
              "    fill: var(--button-hover-fill-color);\n",
              "  }\n",
              "\n",
              "  .colab-df-quickchart-complete:disabled,\n",
              "  .colab-df-quickchart-complete:disabled:hover {\n",
              "    background-color: var(--disabled-bg-color);\n",
              "    fill: var(--disabled-fill-color);\n",
              "    box-shadow: none;\n",
              "  }\n",
              "\n",
              "  .colab-df-spinner {\n",
              "    border: 2px solid var(--fill-color);\n",
              "    border-color: transparent;\n",
              "    border-bottom-color: var(--fill-color);\n",
              "    animation:\n",
              "      spin 1s steps(1) infinite;\n",
              "  }\n",
              "\n",
              "  @keyframes spin {\n",
              "    0% {\n",
              "      border-color: transparent;\n",
              "      border-bottom-color: var(--fill-color);\n",
              "      border-left-color: var(--fill-color);\n",
              "    }\n",
              "    20% {\n",
              "      border-color: transparent;\n",
              "      border-left-color: var(--fill-color);\n",
              "      border-top-color: var(--fill-color);\n",
              "    }\n",
              "    30% {\n",
              "      border-color: transparent;\n",
              "      border-left-color: var(--fill-color);\n",
              "      border-top-color: var(--fill-color);\n",
              "      border-right-color: var(--fill-color);\n",
              "    }\n",
              "    40% {\n",
              "      border-color: transparent;\n",
              "      border-right-color: var(--fill-color);\n",
              "      border-top-color: var(--fill-color);\n",
              "    }\n",
              "    60% {\n",
              "      border-color: transparent;\n",
              "      border-right-color: var(--fill-color);\n",
              "    }\n",
              "    80% {\n",
              "      border-color: transparent;\n",
              "      border-right-color: var(--fill-color);\n",
              "      border-bottom-color: var(--fill-color);\n",
              "    }\n",
              "    90% {\n",
              "      border-color: transparent;\n",
              "      border-bottom-color: var(--fill-color);\n",
              "    }\n",
              "  }\n",
              "</style>\n",
              "\n",
              "      <script>\n",
              "        async function quickchart(key) {\n",
              "          const quickchartButtonEl =\n",
              "            document.querySelector('#' + key + ' button');\n",
              "          quickchartButtonEl.disabled = true;  // To prevent multiple clicks.\n",
              "          quickchartButtonEl.classList.add('colab-df-spinner');\n",
              "          try {\n",
              "            const charts = await google.colab.kernel.invokeFunction(\n",
              "                'suggestCharts', [key], {});\n",
              "          } catch (error) {\n",
              "            console.error('Error during call to suggestCharts:', error);\n",
              "          }\n",
              "          quickchartButtonEl.classList.remove('colab-df-spinner');\n",
              "          quickchartButtonEl.classList.add('colab-df-quickchart-complete');\n",
              "        }\n",
              "        (() => {\n",
              "          let quickchartButtonEl =\n",
              "            document.querySelector('#df-a8bdc551-66a4-4f07-bbaa-10e54a0b3134 button');\n",
              "          quickchartButtonEl.style.display =\n",
              "            google.colab.kernel.accessAllowed ? 'block' : 'none';\n",
              "        })();\n",
              "      </script>\n",
              "    </div>\n",
              "\n",
              "    </div>\n",
              "  </div>\n"
            ],
            "application/vnd.google.colaboratory.intrinsic+json": {
              "type": "dataframe",
              "summary": "{\n  \"name\": \"display(data\",\n  \"rows\": 11,\n  \"fields\": [\n    {\n      \"column\": \"Country\",\n      \"properties\": {\n        \"dtype\": \"category\",\n        \"num_unique_values\": 3,\n        \"samples\": [\n          \"40\",\n          \"Nigeria\",\n          \"1\"\n        ],\n        \"semantic_type\": \"\",\n        \"description\": \"\"\n      }\n    },\n    {\n      \"column\": \"Year\",\n      \"properties\": {\n        \"dtype\": \"number\",\n        \"std\": 926.344698263017,\n        \"min\": 0.0,\n        \"max\": 2021.0,\n        \"num_unique_values\": 3,\n        \"samples\": [\n          40.0,\n          2021.0,\n          0.0\n        ],\n        \"semantic_type\": \"\",\n        \"description\": \"\"\n      }\n    },\n    {\n      \"column\": \"GDP_Per_Capita\",\n      \"properties\": {\n        \"dtype\": \"number\",\n        \"std\": 2623.211810665389,\n        \"min\": 40.0,\n        \"max\": 7794.01,\n        \"num_unique_values\": 8,\n        \"samples\": [\n          4252.018,\n          3883.1549999999997,\n          40.0\n        ],\n        \"semantic_type\": \"\",\n        \"description\": \"\"\n      }\n    },\n    {\n      \"column\": \"Education_Index\",\n      \"properties\": {\n        \"dtype\": \"number\",\n        \"std\": 13.960532299368923,\n        \"min\": 0.08898887498892696,\n        \"max\": 40.0,\n        \"num_unique_values\": 8,\n        \"samples\": [\n          0.584575,\n          0.5675,\n          40.0\n        ],\n        \"semantic_type\": \"\",\n        \"description\": \"\"\n      }\n    },\n    {\n      \"column\": \"Urban_Population_Percent\",\n      \"properties\": {\n        \"dtype\": \"number\",\n        \"std\": 19.33228957043309,\n        \"min\": 16.800695193186474,\n        \"max\": 72.1,\n        \"num_unique_values\": 8,\n        \"samples\": [\n          45.735,\n          46.900000000000006,\n          40.0\n        ],\n        \"semantic_type\": \"\",\n        \"description\": \"\"\n      }\n    },\n    {\n      \"column\": \"Youth_Unemployment_Rate\",\n      \"properties\": {\n        \"dtype\": \"number\",\n        \"std\": 11.756454169725426,\n        \"min\": 3.0,\n        \"max\": 40.0,\n        \"num_unique_values\": 8,\n        \"samples\": [\n          11.4025,\n          11.35,\n          40.0\n        ],\n        \"semantic_type\": \"\",\n        \"description\": \"\"\n      }\n    }\n  ]\n}"
            }
          },
          "metadata": {}
        }
      ]
    },
    {
      "cell_type": "markdown",
      "source": [
        "### Plotting the ```Target``` variable against various ```Independent``` variables"
      ],
      "metadata": {
        "id": "4o9LAWrJNosI"
      }
    },
    {
      "cell_type": "code",
      "source": [
        "# Plotting scatterplot : GDP vs Youth Unemployment\n",
        "\n",
        "plt.figure()\n",
        "plt.scatter(data['GDP_Per_Capita'], data['Youth_Unemployment_Rate'])\n",
        "plt.title('Youth Unemployment vs GDP per Capita')\n",
        "plt.xlabel('GDP per Capita (USD)')\n",
        "plt.ylabel('Youth Unemployment Rate (%)')\n",
        "plt.show()"
      ],
      "metadata": {
        "colab": {
          "base_uri": "https://localhost:8080/",
          "height": 472
        },
        "id": "3oRWz18-NM_C",
        "outputId": "91c63a8d-6bf6-4659-b096-42d75530221c"
      },
      "execution_count": 6,
      "outputs": [
        {
          "output_type": "display_data",
          "data": {
            "text/plain": [
              "<Figure size 640x480 with 1 Axes>"
            ],
            "image/png": "[encoded data removed]"
          },
          "metadata": {}
        }
      ]
    },
    {
      "cell_type": "markdown",
      "source": [
        "#### We could deduce from the chat above that there is a negative relationship between ```Youth Unemployment``` and ```GDP per Capita```, meaning as the GDP increases, there is a corresponding decrease in the youth unemployment."
      ],
      "metadata": {
        "id": "Fc29-YlSO1GH"
      }
    },
    {
      "cell_type": "code",
      "source": [
        "# Plotting scatterplot: Education Index vs Youth Unemployment\n",
        "plt.figure()\n",
        "plt.scatter(data['Education_Index'], data['Youth_Unemployment_Rate'])\n",
        "plt.title('Youth Unemployment vs Education Index')\n",
        "plt.xlabel('Education Index')\n",
        "plt.ylabel('Youth Unemployment Rate (%)')\n",
        "plt.show()"
      ],
      "metadata": {
        "colab": {
          "base_uri": "https://localhost:8080/",
          "height": 472
        },
        "id": "8G3AOtT1_osf",
        "outputId": "14f67a7d-8ce2-46e1-dff8-577fc1d2557a"
      },
      "execution_count": 7,
      "outputs": [
        {
          "output_type": "display_data",
          "data": {
            "text/plain": [
              "<Figure size 640x480 with 1 Axes>"
            ],
            "image/png": "[encoded data removed]"
          },
          "metadata": {}
        }
      ]
    },
    {
      "cell_type": "markdown",
      "source": [
        "#### We could see from the above chat that there is no relationship between the youth unemployment and Education. Meaning, an increase in the education index has no effect on the youth unemployment."
      ],
      "metadata": {
        "id": "KJefQsVXQEW1"
      }
    },
    {
      "cell_type": "markdown",
      "source": [
        "### Building the Predictive Model\n",
        "\n",
        "We predict Youth_Unemployment_Rate using:\n",
        "\n",
        "* ```GDP_Per_Capita```\n",
        "* ```Education_Index```\n",
        "* ```Urban_Population_Percent```"
      ],
      "metadata": {
        "id": "yhd93q2W_uYR"
      }
    },
    {
      "cell_type": "code",
      "source": [
        "# Separte the Features and Target\n",
        "\n",
        "X = data[['GDP_Per_Capita', 'Education_Index', 'Urban_Population_Percent']]\n",
        "y = data['Youth_Unemployment_Rate']\n",
        "\n",
        "X_train, X_test, y_train, y_test = train_test_split(\n",
        "    X, y, test_size=0.3, random_state=23\n",
        ")"
      ],
      "metadata": {
        "id": "xihnRuyu_pe4"
      },
      "execution_count": 9,
      "outputs": []
    },
    {
      "cell_type": "code",
      "source": [
        "#Fit the model\n",
        "\n",
        "model = LinearRegression()\n",
        "model.fit(X_train, y_train)\n",
        "y_pred = model.predict(X_test)\n",
        "\n",
        "print(\"Coefficients:\", model.coef_)\n",
        "print(\"Intercept:\", model.intercept_)"
      ],
      "metadata": {
        "colab": {
          "base_uri": "https://localhost:8080/"
        },
        "id": "Yt-MqltD_vxP",
        "outputId": "0ad99a2f-14bc-4268-ff71-e4755720c6ea"
      },
      "execution_count": 10,
      "outputs": [
        {
          "output_type": "stream",
          "name": "stdout",
          "text": [
            "Coefficients: [-1.56436580e-03 -7.13841144e+00 -2.27844517e-03]\n",
            "Intercept: 22.728017188323292\n"
          ]
        }
      ]
    },
    {
      "cell_type": "markdown",
      "source": [
        "### Interpreting Coefficients\n",
        "\n",
        "* Negative GDP coefficient: as GDP per capita increases, predicted unemployment decreases (holding other features constant).\n",
        "* Negative Education Index coefficient: higher education → lower predicted unemployment (all else equal).\n",
        "Urbanization coefficient: can be ambiguous; may reflect structural shifts, informal sector size, or service opportunities.\n",
        "\n",
        "### Intercept\n",
        "\n",
        "The intercept is the model’s predicted value when all features = 0.\n",
        "In practice, this can be not economically meaningful (e.g., GDP=0, Education Index=0, Urbanization=0 are outside real ranges), but it’s needed mathematically to position the regression plane.\n",
        "\n",
        "* Units intuition\n",
        "\n",
        "If the GDP coefficient is −0.002, that’s roughly −2.0 percentage points per +$1,000 in GDP per capita\n",
        "(because −0.002 × 1000 = −2).\n",
        "Always translate coefficients into meaningful units.\n",
        "\n",
        "* One-line caveat\n",
        "\n",
        "```Linear regression``` assumes roughly linear relationships and not-too-strong collinearity; today is about workflow, not perfect econometrics."
      ],
      "metadata": {
        "id": "Yfj62wrZUbaj"
      }
    },
    {
      "cell_type": "markdown",
      "source": [
        "### Evaluate the Model\n",
        "\n",
        "* Mean Absolute Error (MAE)\n",
        "* R² Score"
      ],
      "metadata": {
        "id": "XeL86yJ6W5k9"
      }
    },
    {
      "cell_type": "code",
      "source": [
        "mae = mean_absolute_error(y_test, y_pred)\n",
        "r2 = r2_score(y_test, y_pred)\n",
        "\n",
        "print(f\"Mean Absolute Error: {mae:.2f}\")\n",
        "print(f\"R² Score: {r2:.2f}\")"
      ],
      "metadata": {
        "colab": {
          "base_uri": "https://localhost:8080/"
        },
        "id": "t7wLEIUEAYM5",
        "outputId": "06e71230-3c13-4f22-d518-6b84c41a7c90"
      },
      "execution_count": 11,
      "outputs": [
        {
          "output_type": "stream",
          "name": "stdout",
          "text": [
            "Mean Absolute Error: 2.09\n",
            "R² Score: 0.72\n"
          ]
        }
      ]
    },
    {
      "cell_type": "markdown",
      "source": [
        "### Evaluate (MAE & R²)\n",
        "\n",
        "Run: Calculate Mean Absolute Error (MAE) and R² (coefficient of determination).\n",
        "\n",
        "Explaination\n",
        "\n",
        "* MAE: “On average, how far off are we?”\n",
        "Example: If MAE = 3.0, our predictions miss by ~3 percentage points on average.\n",
        "\n",
        "* R²: “How much of the variation in unemployment do our features explain?”\n",
        "Example: R² = 0.70 → the model explains 70% of the story."
      ],
      "metadata": {
        "id": "su4p60sIXPKG"
      }
    },
    {
      "cell_type": "code",
      "source": [
        "import numpy as np #importing numpy libraries"
      ],
      "metadata": {
        "id": "oJm9v8AHAhY7"
      },
      "execution_count": 13,
      "outputs": []
    },
    {
      "cell_type": "markdown",
      "source": [
        "### Visual Check: Predicted vs Actual"
      ],
      "metadata": {
        "id": "4xdYQhllYqcu"
      }
    },
    {
      "cell_type": "code",
      "source": [
        "# Compute a common range for the diagonal reference line\n",
        "\n",
        "lo = min(np.min(y_test), np.min(y_pred))\n",
        "hi = max(np.max(y_test), np.max(y_pred))\n",
        "\n",
        "plt.figure()\n",
        "plt.scatter(y_test, y_pred)\n",
        "plt.plot([lo, hi], [lo, hi], linewidth=2)  # 45° reference line (perfect predictions)\n",
        "plt.title('Predicted vs Actual Youth Unemployment Rate')\n",
        "plt.xlabel('Actual (%)')\n",
        "plt.ylabel('Predicted (%)')\n",
        "plt.axis('equal')  # optional: makes the diagonal truly 45° on-screen\n",
        "plt.show()"
      ],
      "metadata": {
        "colab": {
          "base_uri": "https://localhost:8080/",
          "height": 472
        },
        "id": "Bomj0V0hAcFz",
        "outputId": "f0443611-76b8-4c48-f5cb-6e388ea42c85"
      },
      "execution_count": 14,
      "outputs": [
        {
          "output_type": "display_data",
          "data": {
            "text/plain": [
              "<Figure size 640x480 with 1 Axes>"
            ],
            "image/png": "[encoded data removed]"
          },
          "metadata": {}
        }
      ]
    },
    {
      "cell_type": "markdown",
      "source": [
        "### Make a New Prediction (Manual)\n",
        "\n",
        "Try a hypothetical country profile."
      ],
      "metadata": {
        "id": "5e8q0YfEZ3mo"
      }
    },
    {
      "cell_type": "code",
      "source": [
        "sample = [[2500, 0.58, 45.0]]  # [GDP_Per_Capita, Education_Index, Urban_Population_Percent]\n",
        "pred = model.predict(sample)[0]\n",
        "print(f\"Predicted Youth Unemployment Rate: {pred:.2f}%\")"
      ],
      "metadata": {
        "colab": {
          "base_uri": "https://localhost:8080/"
        },
        "id": "jDDZqjj3Ao9A",
        "outputId": "4889bfed-d62f-4f73-ea8a-a75aaf508006"
      },
      "execution_count": 15,
      "outputs": [
        {
          "output_type": "stream",
          "name": "stdout",
          "text": [
            "Predicted Youth Unemployment Rate: 14.57%\n"
          ]
        },
        {
          "output_type": "stream",
          "name": "stderr",
          "text": [
            "/usr/local/lib/python3.12/dist-packages/sklearn/utils/validation.py:2739: UserWarning: X does not have valid feature names, but LinearRegression was fitted with feature names\n",
            "  warnings.warn(\n"
          ]
        }
      ]
    },
    {
      "cell_type": "markdown",
      "source": [
        "### Interactive Prediction UI\n",
        "\n",
        "Use the sliders to simulate a country profile and get a predicted Youth Unemployment Rate (%).\n"
      ],
      "metadata": {
        "id": "NAl3EADAaHlQ"
      }
    },
    {
      "cell_type": "code",
      "source": [
        "from ipywidgets import FloatSlider, VBox, HBox, Button, Output, Layout, Dropdown, Label\n",
        "import ipywidgets as widgets\n",
        "\n",
        "# Ensure 'data' exists (loaded earlier). Create a lookup for country -> feature values.\n",
        "try:\n",
        "    _ = data[['Country','GDP_Per_Capita','Education_Index','Urban_Population_Percent']]\n",
        "except Exception as e:\n",
        "    raise RuntimeError(\"Dataset 'data' not found. Please run the loading cells above first.\") from e\n",
        "\n",
        "# If multiple rows per country exist, take the latest or mean; here we take the mean for robustness.\n",
        "country_lookup = (\n",
        "    data.groupby('Country')[['GDP_Per_Capita','Education_Index','Urban_Population_Percent']]\n",
        "    .mean()\n",
        "    .round({'GDP_Per_Capita':2,'Education_Index':3,'Urban_Population_Percent':1})\n",
        "    .to_dict('index')\n",
        ")\n",
        "\n",
        "# Fallback retrain if model/X_train are missing- quick retrain\n",
        "try:\n",
        "    model\n",
        "    X_train\n",
        "except NameError:\n",
        "    from sklearn.model_selection import train_test_split\n",
        "    from sklearn.linear_model import LinearRegression\n",
        "    X = data[['GDP_Per_Capita', 'Education_Index', 'Urban_Population_Percent']]\n",
        "    y = data['Youth_Unemployment_Rate']\n",
        "    X_train, X_test, y_train, y_test = train_test_split(X, y, test_size=0.3, random_state=42)\n",
        "    model = LinearRegression().fit(X_train, y_train)\n",
        "\n",
        "# Defaults\n",
        "DEFAULTS = dict(gdp=2500.0, edu=0.58, urban=45.0)\n",
        "\n",
        "# Controls\n",
        "country_dd = Dropdown(\n",
        "    options=['-- Select Country --'] + sorted(country_lookup.keys()),\n",
        "    value='-- Select Country --',\n",
        "    description='Country',\n",
        "    layout=Layout(width='95%')\n",
        ")\n",
        "\n",
        "gdp_slider = FloatSlider(\n",
        "    value=DEFAULTS['gdp'], min=500.0, max=10000.0, step=50.0,\n",
        "    description='GDP/Capita ($)', continuous_update=False, readout_format='.0f',\n",
        "    layout=Layout(width='95%')\n",
        ")\n",
        "\n",
        "edu_slider = FloatSlider(\n",
        "    value=DEFAULTS['edu'], min=0.40, max=0.85, step=0.01,\n",
        "    description='Education Idx', continuous_update=False, readout_format='.2f',\n",
        "    layout=Layout(width='95%')\n",
        ")\n",
        "\n",
        "urban_slider = FloatSlider(\n",
        "    value=DEFAULTS['urban'], min=10.0, max=90.0, step=1.0,\n",
        "    description='Urban (%)', continuous_update=False, readout_format='.0f',\n",
        "    layout=Layout(width='95%')\n",
        ")\n",
        "\n",
        "predict_btn = Button(description='Predict Youth Unemployment (%)', button_style='primary', layout=Layout(width='47%'))\n",
        "reset_btn = Button(description='Reset', layout=Layout(width='47%'))\n",
        "buttons_row = HBox([predict_btn, reset_btn], layout=Layout(width='95%', justify_content='space-between'))\n",
        "\n",
        "out = Output(layout=Layout(border='1px solid #ddd', padding='8px', width='95%'))\n",
        "\n",
        "def plot_meter(pred_value, ymin=0, ymax=50):\n",
        "    \"\"\"Simple meter-style visualization: a horizontal axis with a marker at the prediction.\"\"\"\n",
        "    plt.figure()\n",
        "    plt.axhline(0)\n",
        "    plt.xlim(ymin, ymax)\n",
        "    plt.ylim(-1, 1)\n",
        "    plt.xticks(range(ymin, ymax+1, 5))\n",
        "    plt.axvline(pred_value)\n",
        "    plt.title('Predicted Youth Unemployment Rate (Meter)')\n",
        "    plt.xlabel('Rate (%)')\n",
        "    plt.yticks([])\n",
        "    plt.show()\n",
        "\n",
        "def on_predict_clicked(b):\n",
        "    with out:\n",
        "        out.clear_output()\n",
        "        sample = [[gdp_slider.value, edu_slider.value, urban_slider.value]]\n",
        "        pred = model.predict(sample)[0]\n",
        "        print(f\"Predicted Youth Unemployment Rate: {pred:.2f}%\")\n",
        "        try:\n",
        "            train_mean = float(pd.Series(model.predict(X_train)).mean())\n",
        "            print(f\"(Context) Avg predicted (train set): {train_mean:.2f}%\")\n",
        "        except Exception:\n",
        "            pass\n",
        "        plot_meter(pred_value=float(pred), ymin=0, ymax=50)\n",
        "\n",
        "def on_reset_clicked(b):\n",
        "    country_dd.value = '-- Select Country --'\n",
        "    gdp_slider.value = DEFAULTS['gdp']\n",
        "    edu_slider.value = DEFAULTS['edu']\n",
        "    urban_slider.value = DEFAULTS['urban']\n",
        "    with out:\n",
        "        out.clear_output()\n",
        "        print(\"Controls reset to defaults.\")\n",
        "\n",
        "def on_country_change(change):\n",
        "    if change['name'] == 'value' and change['new'] != '-- Select Country --':\n",
        "        vals = country_lookup.get(change['new'])\n",
        "        if vals:\n",
        "            gdp_slider.value = float(vals['GDP_Per_Capita'])\n",
        "            edu_slider.value = float(vals['Education_Index'])\n",
        "            urban_slider.value = float(vals['Urban_Population_Percent'])\n",
        "\n",
        "country_dd.observe(on_country_change, names='value')\n",
        "predict_btn.on_click(on_predict_clicked)\n",
        "reset_btn.on_click(on_reset_clicked)\n",
        "\n",
        "VBox([country_dd, gdp_slider, edu_slider, urban_slider, buttons_row, out])"
      ],
      "metadata": {
        "colab": {
          "base_uri": "https://localhost:8080/",
          "height": 736,
          "referenced_widgets": [
            "2c1274de111a4191a75a501fda3b9be9",
            "13a8f4f7a22f41f8a09f327245fac324",
            "3f2071211b854207bfb8dac5369327a5",
            "ec9b10740031494da64a7ac2eb633a1e",
            "bef26ffe88cc4f918b73302a206fff3b",
            "3bcbac97640046ddac0558e239ec1b23",
            "56735d82d9b44e01a096f1ceaf622ddd",
            "06f843c45d2e4bb2973de6d1a5c667fa",
            "dcbfbd27c7394f198b8f1ba760003834",
            "ae14518e03df409c84ce6aad712cf735",
            "59c5e86888b944f1a6b02ac05f04246b",
            "8c04f686502548ac9faf2a42b5417042",
            "899b078f9173482d882f5725d571536b",
            "6d07b6668712426889518dc30c790622",
            "afa4b6b05c4747478cf43690b7fde528",
            "aa25240986234e51b5b464a1cfb8f5af",
            "84005d61afaf49878c8f62f69ec56f49",
            "691c3072c50e487aa332c402cc90bdc8",
            "9c10dc146b5146ac9055b30153c464b2",
            "a64cb4d0f03f422dad7d6a74ea9bf8ea",
            "7ab8dc3f2f514131a05c6d50872afc73",
            "9e044582535c49168349eb426427f4ce",
            "2f12e4211b4e4329ad2a6481defac567",
            "da6f6a7cb1ac4fe7854b0fef268d23b9"
          ]
        },
        "id": "AVj8CgKJAp2M",
        "outputId": "e5572870-d7fb-458b-c4d6-af5a30e7c0b8"
      },
      "execution_count": 16,
      "outputs": [
        {
          "output_type": "display_data",
          "data": {
            "text/plain": [
              "VBox(children=(Dropdown(description='Country', layout=Layout(width='95%'), options=('-- Select Country --', 'A…"
            ],
            "application/vnd.jupyter.widget-view+json": {
              "version_major": 2,
              "version_minor": 0,
              "model_id": "2c1274de111a4191a75a501fda3b9be9"
            }
          },
          "metadata": {}
        }
      ]
    },
    {
      "cell_type": "markdown",
      "source": [
        "### Reflection & Next Steps\n",
        "\n",
        "* Add more features: internet penetration, access to finance, sectoral shares.\n",
        "* Try new algorithms: Decision Trees, Random Forests.\n",
        "* Perform cross-validation and hyperparameter tuning.\n",
        "*Share insights with policymakers and communities."
      ],
      "metadata": {
        "id": "wwmLRi5YblPL"
      }
    },
    {
      "cell_type": "markdown",
      "source": [
        "### Thank You!"
      ],
      "metadata": {
        "id": "AZZAjQwlcTcE"
      }
    },
    {
      "cell_type": "code",
      "source": [],
      "metadata": {
        "id": "2x5XPnpscY2n"
      },
      "execution_count": null,
      "outputs": []
    }
  ]
}